{
 "cells": [
  {
   "cell_type": "code",
   "execution_count": 1,
   "id": "opposed-thickness",
   "metadata": {},
   "outputs": [],
   "source": [
    "import os\n",
    "from collections import defaultdict\n",
    "import logging\n",
    "from IPython.display import HTML, display\n",
    "import math\n",
    "from itertools import islice, product\n",
    "from enum import Enum\n",
    "from PIL import Image"
   ]
  },
  {
   "cell_type": "code",
   "execution_count": 2,
   "id": "recognized-cleveland",
   "metadata": {},
   "outputs": [
    {
     "data": {
      "text/html": [
       "<span style=\"font-family: Courier New, Courier, Lucida Sans Typewriter, Lucida Typewriter, monospace;\">&nbsp;&nbsp;&nbsp;&nbsp;&nbsp;&nbsp;&nbsp;&nbsp;&nbsp;&nbsp;&nbsp;&nbsp;&nbsp;&nbsp;00&nbsp;01&nbsp;02&nbsp;03&nbsp;04&nbsp;05&nbsp;06&nbsp;07&nbsp;&nbsp;08&nbsp;09&nbsp;0A&nbsp;0B&nbsp;0C&nbsp;0D&nbsp;0E&nbsp;0F<br><br>00000000:&nbsp;&nbsp;&nbsp;&nbsp;<span style=\"background-color:#003F00;\">00 01</span>&nbsp;<span style=\"background-color:#00BF0F;\">02 03</span>&nbsp;<span style=\"background-color:#073F1F;\">04 05</span>&nbsp;<span style=\"background-color:#07BF2F;\">06 07</span>&nbsp;&nbsp;<span style=\"background-color:#0F3F3F;\">08 09</span>&nbsp;<span style=\"background-color:#0FBF4F;\">0A 0B</span>&nbsp;<span style=\"background-color:#173F5F;\">0C 0D</span>&nbsp;<span style=\"background-color:#17BF6F;\">0E 0F</span><br>00000010:&nbsp;&nbsp;&nbsp;&nbsp;<span style=\"background-color:#1F3F7F;\">10 11</span>&nbsp;<span style=\"background-color:#1FBF8F;\">12 13</span>&nbsp;<span style=\"background-color:#273F9F;\">14 15</span>&nbsp;<span style=\"background-color:#27BFAF;\">16 17</span>&nbsp;&nbsp;<span style=\"background-color:#2F3FBF;\">18 19</span>&nbsp;<span style=\"background-color:#2FBFCF;\">1A 1B</span>&nbsp;<span style=\"background-color:#373FDF;\">1C 1D</span>&nbsp;<span style=\"background-color:#37BFEF;\">1E 1F</span><br>00000020:&nbsp;&nbsp;&nbsp;&nbsp;<span style=\"background-color:#3F4700;\">20 21</span>&nbsp;<span style=\"background-color:#3FC70F;\">22 23</span>&nbsp;<span style=\"background-color:#47471F;\">24 25</span>&nbsp;<span style=\"background-color:#47C72F;\">26 27</span>&nbsp;&nbsp;<span style=\"background-color:#4F473F;\">28 29</span>&nbsp;<span style=\"background-color:#4FC74F;\">2A 2B</span>&nbsp;<span style=\"background-color:#57475F;\">2C 2D</span>&nbsp;<span style=\"background-color:#57C76F;\">2E 2F</span><br>00000030:&nbsp;&nbsp;&nbsp;&nbsp;<span style=\"background-color:#5F477F;\">30 31</span>&nbsp;<span style=\"background-color:#5FC78F;\">32 33</span>&nbsp;<span style=\"background-color:#67479F;\">34 35</span>&nbsp;<span style=\"background-color:#67C7AF;\">36 37</span>&nbsp;&nbsp;<span style=\"background-color:#6F47BF;\">38 39</span>&nbsp;<span style=\"background-color:#6FC7CF;\">3A 3B</span>&nbsp;<span style=\"background-color:#7747DF;\">3C 3D</span>&nbsp;<span style=\"background-color:#77C7EF;\">3E 3F</span><br>00000040:&nbsp;&nbsp;&nbsp;&nbsp;<span style=\"background-color:#7F4F00;\">40 41</span>&nbsp;<span style=\"background-color:#7FCF0F;\">42 43</span>&nbsp;<span style=\"background-color:#874F1F;\">44 45</span>&nbsp;<span style=\"background-color:#87CF2F;\">46 47</span>&nbsp;&nbsp;<span style=\"background-color:#8F4F3F;\">48 49</span>&nbsp;<span style=\"background-color:#8FCF4F;\">4A 4B</span>&nbsp;<span style=\"background-color:#974F5F;\">4C 4D</span>&nbsp;<span style=\"background-color:#97CF6F;\">4E 4F</span><br>00000050:&nbsp;&nbsp;&nbsp;&nbsp;<span style=\"background-color:#9F4F7F;\">50 51</span>&nbsp;<span style=\"background-color:#9FCF8F;\">52 53</span>&nbsp;<span style=\"background-color:#A74F9F;\">54 55</span>&nbsp;<span style=\"background-color:#A7CFAF;\">56 57</span>&nbsp;&nbsp;<span style=\"background-color:#AF4FBF;\">58 59</span>&nbsp;<span style=\"background-color:#AFCFCF;\">5A 5B</span>&nbsp;<span style=\"background-color:#B74FDF;\">5C 5D</span>&nbsp;<span style=\"background-color:#B7CFEF;\">5E 5F</span><br>00000060:&nbsp;&nbsp;&nbsp;&nbsp;<span style=\"background-color:#BF5700;\">60 61</span>&nbsp;<span style=\"background-color:#BFD70F;\">62 63</span>&nbsp;<span style=\"background-color:#C7571F;\">64 65</span>&nbsp;<span style=\"background-color:#C7D72F;\">66 67</span>&nbsp;&nbsp;<span style=\"background-color:#CF573F;\">68 69</span>&nbsp;<span style=\"background-color:#CFD74F;\">6A 6B</span>&nbsp;<span style=\"background-color:#D7575F;\">6C 6D</span>&nbsp;<span style=\"background-color:#D7D76F;\">6E 6F</span><br>00000070:&nbsp;&nbsp;&nbsp;&nbsp;<span style=\"background-color:#DF577F;\">70 71</span>&nbsp;<span style=\"background-color:#DFD78F;\">72 73</span>&nbsp;<span style=\"background-color:#E7579F;\">74 75</span>&nbsp;<span style=\"background-color:#E7D7AF;\">76 77</span>&nbsp;&nbsp;<span style=\"background-color:#EF57BF;\">78 79</span>&nbsp;<span style=\"background-color:#EFD7CF;\">7A 7B</span>&nbsp;<span style=\"background-color:#F757DF;\">7C 7D</span>&nbsp;<span style=\"background-color:#F7D7EF;\">7E 7F</span><br>00000080:&nbsp;&nbsp;&nbsp;&nbsp;<b>80 81</b>&nbsp;<b>82 83</b>&nbsp;&nbsp;</span>"
      ],
      "text/plain": [
       "<IPython.core.display.HTML object>"
      ]
     },
     "metadata": {},
     "output_type": "display_data"
    }
   ],
   "source": [
    "# tilesets; DICT[str, Tileset]\n",
    "%run ./CEL\\ INSPECTOR.ipynb"
   ]
  },
  {
   "cell_type": "code",
   "execution_count": 3,
   "id": "decent-automation",
   "metadata": {
    "scrolled": true
   },
   "outputs": [],
   "source": [
    "def chunk(it, size):\n",
    "    it = iter(it)\n",
    "    return list(iter(lambda: tuple(islice(it, size)), ()))\n",
    "\n",
    "\n",
    "def format_word(v, w):\n",
    "    text = '{:02X} {:02X}'.format(v, w)\n",
    "    return f'{text}'\n",
    "\n",
    "\n",
    "def byte_to_char(b):\n",
    "    try:\n",
    "        if b >= 32 and b <= 126:\n",
    "            return bytes([b]).decode('utf-8')\n",
    "        else:\n",
    "            return '.'\n",
    "    except:\n",
    "        return '.'\n",
    "\n",
    "    \n",
    "def hex_view(data):\n",
    "    text = []\n",
    "    text.append(\n",
    "        14 * '&nbsp;' +\n",
    "        '&nbsp;'.join(['{:02X}'.format(y) for y in range(8)]) +\n",
    "        '&nbsp;&nbsp;' +\n",
    "        '&nbsp;'.join(['{:02X}'.format(y) for y in range(8, 16)]) +\n",
    "        '&nbsp;&nbsp;' +\n",
    "        'text'\n",
    "    )\n",
    "    text.append('')\n",
    "    for i, x in enumerate(chunk(data, 16)):\n",
    "        text.append('{:08X}:&nbsp;&nbsp;&nbsp;&nbsp;'.format(i * 16) +\n",
    "            '&nbsp;'.join([format_word(y, z) for y, z in zip(x[:8:2], x[1:8:2])]) +\n",
    "            '&nbsp;&nbsp;' +\n",
    "            '&nbsp;'.join([format_word(y, z) for y, z in zip(x[8:16:2], x[9:16:2])]) +\n",
    "            '&nbsp;&nbsp;' +\n",
    "            '&nbsp;'.join([byte_to_char(y) for y in x[:8]]) +\n",
    "            '&nbsp;' +\n",
    "            '&nbsp;'.join([byte_to_char(y) for y in x[8:16]])\n",
    "        )\n",
    "    return '<span style=\"font-family: Courier New, Courier, Lucida Sans Typewriter, Lucida Typewriter, monospace;\">{}</span>'.format(\"<br>\".join(text))\n",
    "\n",
    "\n",
    "def display_hex_view(data):\n",
    "    display(HTML(hex_view(data)))\n",
    "\n",
    "\n",
    "#display_hex_view(bytes(range(132)))"
   ]
  },
  {
   "cell_type": "code",
   "execution_count": 4,
   "id": "interstate-morocco",
   "metadata": {},
   "outputs": [],
   "source": [
    "from collections import namedtuple \n",
    "\n",
    "\n",
    "File = namedtuple('File', ['name', 'offset', 'length'])\n",
    "FOLDER = '/home/alex/.wine/drive_c/GOG Games/WH40K Final Liberation'\n",
    "\n",
    "\n",
    "# a muk looks to be a bit like a tar file, to group files up\n",
    "def read_muk():\n",
    "    with open(f'{FOLDER}/BDG.MUK', 'rb') as file:\n",
    "        header = file.read(34)\n",
    "        #display_hex_view(header)\n",
    "        _ = file.read(4)\n",
    "        unknown1 = int.from_bytes(file.read(2), 'little')\n",
    "        packaged_files = int.from_bytes(file.read(2), 'little')\n",
    "        unknown2 = int.from_bytes(file.read(2), 'little')\n",
    "        unknown3 = int.from_bytes(file.read(2), 'little')\n",
    "        unknown4 = file.read(10)\n",
    "        #print(packaged_files, unknown2, unknown3, unknown4)\n",
    "\n",
    "        # next block contains filenames, offests and their lengths in the final block\n",
    "        files = []\n",
    "        for i in range(packaged_files):\n",
    "            filename = file.read(11).decode('utf-8')\n",
    "            blank = file.read(2) # maybe double blank is the terminator?\n",
    "            file_offset = int.from_bytes(file.read(4), 'little')\n",
    "            file_length = int.from_bytes(file.read(4), 'little')\n",
    "            files.append(File(filename, file_offset, file_length))\n",
    "\n",
    "        # use the preceeding info to jump around the file, to read the files tared up\n",
    "        for f in files:\n",
    "            file.seek(f.offset)\n",
    "            print(f.name, f.offset, f.length)\n",
    "            read_virtual_file(file, f.name, f.length)\n",
    "        pos, size = file.tell(), os.fstat(file.fileno()).st_size\n",
    "        assert pos == size , f\"Did not read to EOF {pos} of {size}\""
   ]
  },
  {
   "cell_type": "code",
   "execution_count": 10,
   "id": "bulgarian-aaron",
   "metadata": {},
   "outputs": [
    {
     "name": "stdout",
     "output_type": "stream",
     "text": [
      "A_HOLE1.BDG 10997 72\n"
     ]
    },
    {
     "data": {
      "text/html": [
       "<span style=\"font-family: Courier New, Courier, Lucida Sans Typewriter, Lucida Typewriter, monospace;\">&nbsp;&nbsp;&nbsp;&nbsp;&nbsp;&nbsp;&nbsp;&nbsp;&nbsp;&nbsp;&nbsp;&nbsp;&nbsp;&nbsp;00&nbsp;01&nbsp;02&nbsp;03&nbsp;04&nbsp;05&nbsp;06&nbsp;07&nbsp;&nbsp;08&nbsp;09&nbsp;0A&nbsp;0B&nbsp;0C&nbsp;0D&nbsp;0E&nbsp;0F&nbsp;&nbsp;text<br><br>00000000:&nbsp;&nbsp;&nbsp;&nbsp;2B 00&nbsp;1C 00&nbsp;01 00&nbsp;4F 01&nbsp;&nbsp;00 00&nbsp;00 01&nbsp;00 00&nbsp;12 00&nbsp;&nbsp;+&nbsp;.&nbsp;.&nbsp;.&nbsp;.&nbsp;.&nbsp;O&nbsp;.&nbsp;.&nbsp;.&nbsp;.&nbsp;.&nbsp;.&nbsp;.&nbsp;.&nbsp;.<br>00000010:&nbsp;&nbsp;&nbsp;&nbsp;1D 00&nbsp;01 00&nbsp;F2 FF&nbsp;FE FF&nbsp;&nbsp;00 00&nbsp;00 00&nbsp;00 00&nbsp;FF 00&nbsp;&nbsp;.&nbsp;.&nbsp;.&nbsp;.&nbsp;.&nbsp;.&nbsp;.&nbsp;.&nbsp;.&nbsp;.&nbsp;.&nbsp;.&nbsp;.&nbsp;.&nbsp;.&nbsp;.</span>"
      ],
      "text/plain": [
       "<IPython.core.display.HTML object>"
      ]
     },
     "metadata": {},
     "output_type": "display_data"
    },
    {
     "name": "stdout",
     "output_type": "stream",
     "text": [
      "[43, 28, 1, 335, 0, 256, 0, 18, 29, 1, -14, -2, 0, 0, 0, 255]\n",
      "\n",
      "[TileImage(x=43, y=28, z=1, page=335, index=0)]\n",
      "[TileData(unknown=0, width=18, height=29, tile_count=1, x=-14, y=-2)]\n",
      "[TileInfo(x=0, y=0, terrain_type=0)]\n",
      "\n"
     ]
    },
    {
     "data": {
      "image/png": "[encoded data removed]",
      "text/plain": [
       "<PIL.Image.Image image mode=RGBA size=151x81 at 0x7FEF5B20E6D0>"
      ]
     },
     "metadata": {},
     "output_type": "display_data"
    },
    {
     "name": "stdout",
     "output_type": "stream",
     "text": [
      "A_HOLE2.BDG 11069 72\n"
     ]
    },
    {
     "data": {
      "text/html": [
       "<span style=\"font-family: Courier New, Courier, Lucida Sans Typewriter, Lucida Typewriter, monospace;\">&nbsp;&nbsp;&nbsp;&nbsp;&nbsp;&nbsp;&nbsp;&nbsp;&nbsp;&nbsp;&nbsp;&nbsp;&nbsp;&nbsp;00&nbsp;01&nbsp;02&nbsp;03&nbsp;04&nbsp;05&nbsp;06&nbsp;07&nbsp;&nbsp;08&nbsp;09&nbsp;0A&nbsp;0B&nbsp;0C&nbsp;0D&nbsp;0E&nbsp;0F&nbsp;&nbsp;text<br><br>00000000:&nbsp;&nbsp;&nbsp;&nbsp;1F 00&nbsp;0E 00&nbsp;01 00&nbsp;4F 01&nbsp;&nbsp;01 00&nbsp;00 01&nbsp;00 00&nbsp;0E 00&nbsp;&nbsp;.&nbsp;.&nbsp;.&nbsp;.&nbsp;.&nbsp;.&nbsp;O&nbsp;.&nbsp;.&nbsp;.&nbsp;.&nbsp;.&nbsp;.&nbsp;.&nbsp;.&nbsp;.<br>00000010:&nbsp;&nbsp;&nbsp;&nbsp;16 00&nbsp;01 00&nbsp;EE FF&nbsp;F7 FF&nbsp;&nbsp;00 00&nbsp;00 00&nbsp;00 00&nbsp;FF 00&nbsp;&nbsp;.&nbsp;.&nbsp;.&nbsp;.&nbsp;.&nbsp;.&nbsp;.&nbsp;.&nbsp;.&nbsp;.&nbsp;.&nbsp;.&nbsp;.&nbsp;.&nbsp;.&nbsp;.</span>"
      ],
      "text/plain": [
       "<IPython.core.display.HTML object>"
      ]
     },
     "metadata": {},
     "output_type": "display_data"
    },
    {
     "name": "stdout",
     "output_type": "stream",
     "text": [
      "[31, 14, 1, 335, 1, 256, 0, 14, 22, 1, -18, -9, 0, 0, 0, 255]\n",
      "\n",
      "[TileImage(x=31, y=14, z=1, page=335, index=1)]\n",
      "[TileData(unknown=0, width=14, height=22, tile_count=1, x=-18, y=-9)]\n",
      "[TileInfo(x=0, y=0, terrain_type=0)]\n",
      "\n"
     ]
    },
    {
     "data": {
      "image/png": "[encoded data removed]",
      "text/plain": [
       "<PIL.Image.Image image mode=RGBA size=151x81 at 0x7FEF5A8C2FD0>"
      ]
     },
     "metadata": {},
     "output_type": "display_data"
    },
    {
     "name": "stdout",
     "output_type": "stream",
     "text": [
      "A_HOLE3.BDG 11141 72\n"
     ]
    },
    {
     "data": {
      "text/html": [
       "<span style=\"font-family: Courier New, Courier, Lucida Sans Typewriter, Lucida Typewriter, monospace;\">&nbsp;&nbsp;&nbsp;&nbsp;&nbsp;&nbsp;&nbsp;&nbsp;&nbsp;&nbsp;&nbsp;&nbsp;&nbsp;&nbsp;00&nbsp;01&nbsp;02&nbsp;03&nbsp;04&nbsp;05&nbsp;06&nbsp;07&nbsp;&nbsp;08&nbsp;09&nbsp;0A&nbsp;0B&nbsp;0C&nbsp;0D&nbsp;0E&nbsp;0F&nbsp;&nbsp;text<br><br>00000000:&nbsp;&nbsp;&nbsp;&nbsp;4E 00&nbsp;2F 00&nbsp;01 00&nbsp;4F 01&nbsp;&nbsp;02 00&nbsp;00 01&nbsp;00 00&nbsp;27 00&nbsp;&nbsp;N&nbsp;.&nbsp;/&nbsp;.&nbsp;.&nbsp;.&nbsp;O&nbsp;.&nbsp;.&nbsp;.&nbsp;.&nbsp;.&nbsp;.&nbsp;.&nbsp;'&nbsp;.<br>00000010:&nbsp;&nbsp;&nbsp;&nbsp;24 00&nbsp;01 00&nbsp;07 00&nbsp;05 00&nbsp;&nbsp;00 00&nbsp;00 00&nbsp;00 00&nbsp;FF 00&nbsp;&nbsp;$&nbsp;.&nbsp;.&nbsp;.&nbsp;.&nbsp;.&nbsp;.&nbsp;.&nbsp;.&nbsp;.&nbsp;.&nbsp;.&nbsp;.&nbsp;.&nbsp;.&nbsp;.</span>"
      ],
      "text/plain": [
       "<IPython.core.display.HTML object>"
      ]
     },
     "metadata": {},
     "output_type": "display_data"
    },
    {
     "name": "stdout",
     "output_type": "stream",
     "text": [
      "[78, 47, 1, 335, 2, 256, 0, 39, 36, 1, 7, 5, 0, 0, 0, 255]\n",
      "\n",
      "[TileImage(x=78, y=47, z=1, page=335, index=2)]\n",
      "[TileData(unknown=0, width=39, height=36, tile_count=1, x=7, y=5)]\n",
      "[TileInfo(x=0, y=0, terrain_type=0)]\n",
      "\n"
     ]
    },
    {
     "data": {
      "image/png": "[encoded data removed]",
      "text/plain": [
       "<PIL.Image.Image image mode=RGBA size=151x81 at 0x7FEF5A6E2F90>"
      ]
     },
     "metadata": {},
     "output_type": "display_data"
    },
    {
     "name": "stdout",
     "output_type": "stream",
     "text": [
      "A_HOLE4.BDG 11213 136\n"
     ]
    },
    {
     "data": {
      "text/html": [
       "<span style=\"font-family: Courier New, Courier, Lucida Sans Typewriter, Lucida Typewriter, monospace;\">&nbsp;&nbsp;&nbsp;&nbsp;&nbsp;&nbsp;&nbsp;&nbsp;&nbsp;&nbsp;&nbsp;&nbsp;&nbsp;&nbsp;00&nbsp;01&nbsp;02&nbsp;03&nbsp;04&nbsp;05&nbsp;06&nbsp;07&nbsp;&nbsp;08&nbsp;09&nbsp;0A&nbsp;0B&nbsp;0C&nbsp;0D&nbsp;0E&nbsp;0F&nbsp;&nbsp;text<br><br>00000000:&nbsp;&nbsp;&nbsp;&nbsp;98 00&nbsp;52 00&nbsp;01 00&nbsp;4F 01&nbsp;&nbsp;03 00&nbsp;00 01&nbsp;00 00&nbsp;49 00&nbsp;&nbsp;.&nbsp;.&nbsp;R&nbsp;.&nbsp;.&nbsp;.&nbsp;O&nbsp;.&nbsp;.&nbsp;.&nbsp;.&nbsp;.&nbsp;.&nbsp;.&nbsp;I&nbsp;.<br>00000010:&nbsp;&nbsp;&nbsp;&nbsp;35 00&nbsp;09 00&nbsp;29 00&nbsp;16 00&nbsp;&nbsp;00 00&nbsp;00 00&nbsp;00 00&nbsp;FF 00&nbsp;&nbsp;5&nbsp;.&nbsp;.&nbsp;.&nbsp;)&nbsp;.&nbsp;.&nbsp;.&nbsp;.&nbsp;.&nbsp;.&nbsp;.&nbsp;.&nbsp;.&nbsp;.&nbsp;.<br>00000020:&nbsp;&nbsp;&nbsp;&nbsp;01 00&nbsp;00 00&nbsp;00 00&nbsp;FF 00&nbsp;&nbsp;01 00&nbsp;FF FF&nbsp;00 00&nbsp;FF 00&nbsp;&nbsp;.&nbsp;.&nbsp;.&nbsp;.&nbsp;.&nbsp;.&nbsp;.&nbsp;.&nbsp;.&nbsp;.&nbsp;.&nbsp;.&nbsp;.&nbsp;.&nbsp;.&nbsp;.<br>00000030:&nbsp;&nbsp;&nbsp;&nbsp;FF FF&nbsp;FF FF&nbsp;00 00&nbsp;FF 00&nbsp;&nbsp;FF FF&nbsp;00 00&nbsp;00 00&nbsp;FF 00&nbsp;&nbsp;.&nbsp;.&nbsp;.&nbsp;.&nbsp;.&nbsp;.&nbsp;.&nbsp;.&nbsp;.&nbsp;.&nbsp;.&nbsp;.&nbsp;.&nbsp;.&nbsp;.&nbsp;.<br>00000040:&nbsp;&nbsp;&nbsp;&nbsp;00 00&nbsp;01 00&nbsp;00 00&nbsp;FF 00&nbsp;&nbsp;00 00&nbsp;FF FF&nbsp;00 00&nbsp;FF 00&nbsp;&nbsp;.&nbsp;.&nbsp;.&nbsp;.&nbsp;.&nbsp;.&nbsp;.&nbsp;.&nbsp;.&nbsp;.&nbsp;.&nbsp;.&nbsp;.&nbsp;.&nbsp;.&nbsp;.<br>00000050:&nbsp;&nbsp;&nbsp;&nbsp;FE FF&nbsp;00 00&nbsp;00 00&nbsp;FF 00&nbsp;&nbsp;02 00&nbsp;00 00&nbsp;00 00&nbsp;FF 00&nbsp;&nbsp;.&nbsp;.&nbsp;.&nbsp;.&nbsp;.&nbsp;.&nbsp;.&nbsp;.&nbsp;.&nbsp;.&nbsp;.&nbsp;.&nbsp;.&nbsp;.&nbsp;.&nbsp;.</span>"
      ],
      "text/plain": [
       "<IPython.core.display.HTML object>"
      ]
     },
     "metadata": {},
     "output_type": "display_data"
    },
    {
     "name": "stdout",
     "output_type": "stream",
     "text": [
      "[152, 82, 1, 335, 3, 256, 0, 73, 53, 9, 41, 22, 0, 0, 0, 255, 1, 0, 0, 255, 1, -1, 0, 255, -1, -1, 0, 255, -1, 0, 0, 255, 0, 1, 0, 255, 0, -1, 0, 255, -2, 0, 0, 255, 2, 0, 0, 255]\n",
      "\n",
      "[TileImage(x=152, y=82, z=1, page=335, index=3)]\n",
      "[TileData(unknown=0, width=73, height=53, tile_count=9, x=41, y=22)]\n",
      "[TileInfo(x=0, y=0, terrain_type=0), TileInfo(x=1, y=0, terrain_type=0), TileInfo(x=1, y=-1, terrain_type=0), TileInfo(x=-1, y=-1, terrain_type=0), TileInfo(x=-1, y=0, terrain_type=0), TileInfo(x=0, y=1, terrain_type=0), TileInfo(x=0, y=-1, terrain_type=0), TileInfo(x=-2, y=0, terrain_type=0), TileInfo(x=2, y=0, terrain_type=0)]\n",
      "\n"
     ]
    },
    {
     "data": {
      "image/png": "[encoded data removed]",
      "text/plain": [
       "<PIL.Image.Image image mode=RGBA size=151x81 at 0x7FEF5B20E650>"
      ]
     },
     "metadata": {},
     "output_type": "display_data"
    },
    {
     "name": "stdout",
     "output_type": "stream",
     "text": [
      "a_treea0.BD 11349 84\n"
     ]
    },
    {
     "data": {
      "text/html": [
       "<span style=\"font-family: Courier New, Courier, Lucida Sans Typewriter, Lucida Typewriter, monospace;\">&nbsp;&nbsp;&nbsp;&nbsp;&nbsp;&nbsp;&nbsp;&nbsp;&nbsp;&nbsp;&nbsp;&nbsp;&nbsp;&nbsp;00&nbsp;01&nbsp;02&nbsp;03&nbsp;04&nbsp;05&nbsp;06&nbsp;07&nbsp;&nbsp;08&nbsp;09&nbsp;0A&nbsp;0B&nbsp;0C&nbsp;0D&nbsp;0E&nbsp;0F&nbsp;&nbsp;text<br><br>00000000:&nbsp;&nbsp;&nbsp;&nbsp;3F 00&nbsp;77 00&nbsp;02 00&nbsp;4E 01&nbsp;&nbsp;00 00&nbsp;03 01&nbsp;00 00&nbsp;1C 00&nbsp;&nbsp;?&nbsp;.&nbsp;w&nbsp;.&nbsp;.&nbsp;.&nbsp;N&nbsp;.&nbsp;.&nbsp;.&nbsp;.&nbsp;.&nbsp;.&nbsp;.&nbsp;.&nbsp;.<br>00000010:&nbsp;&nbsp;&nbsp;&nbsp;72 00&nbsp;4E 01&nbsp;0C 00&nbsp;00 01&nbsp;&nbsp;04 00&nbsp;1C 00&nbsp;72 00&nbsp;01 00&nbsp;&nbsp;r&nbsp;.&nbsp;N&nbsp;.&nbsp;.&nbsp;.&nbsp;.&nbsp;.&nbsp;.&nbsp;.&nbsp;.&nbsp;.&nbsp;r&nbsp;.&nbsp;.&nbsp;.<br>00000020:&nbsp;&nbsp;&nbsp;&nbsp;FC FF&nbsp;63 00&nbsp;00 00&nbsp;00 00&nbsp;&nbsp;07 00&nbsp;FF 00&nbsp;&nbsp;.&nbsp;.&nbsp;c&nbsp;.&nbsp;.&nbsp;.&nbsp;.&nbsp;.&nbsp;.&nbsp;.&nbsp;.&nbsp;.</span>"
      ],
      "text/plain": [
       "<IPython.core.display.HTML object>"
      ]
     },
     "metadata": {},
     "output_type": "display_data"
    },
    {
     "name": "stdout",
     "output_type": "stream",
     "text": [
      "[63, 119, 2, 334, 0, 259, 0, 28, 114, 334, 12, 256, 4, 28, 114, 1, -4, 99, 0, 0, 7, 255]\n",
      "\n",
      "[TileImage(x=63, y=119, z=2, page=334, index=0), TileImage(x=0, y=28, z=114, page=334, index=12)]\n",
      "[TileData(unknown=4, width=28, height=114, tile_count=1, x=-4, y=99)]\n",
      "[TileInfo(x=0, y=0, terrain_type=7)]\n",
      "\n"
     ]
    },
    {
     "data": {
      "image/png": "[encoded data removed]",
      "text/plain": [
       "<PIL.Image.Image image mode=RGBA size=87x120 at 0x7FEF5AFDFE50>"
      ]
     },
     "metadata": {},
     "output_type": "display_data"
    },
    {
     "data": {
      "image/png": "[encoded data removed]",
      "text/plain": [
       "<PIL.Image.Image image mode=RGBA size=87x120 at 0x7FEF5A8C28D0>"
      ]
     },
     "metadata": {},
     "output_type": "display_data"
    },
    {
     "name": "stdout",
     "output_type": "stream",
     "text": [
      "A_TREEA1.BD 11433 72\n"
     ]
    },
    {
     "data": {
      "text/html": [
       "<span style=\"font-family: Courier New, Courier, Lucida Sans Typewriter, Lucida Typewriter, monospace;\">&nbsp;&nbsp;&nbsp;&nbsp;&nbsp;&nbsp;&nbsp;&nbsp;&nbsp;&nbsp;&nbsp;&nbsp;&nbsp;&nbsp;00&nbsp;01&nbsp;02&nbsp;03&nbsp;04&nbsp;05&nbsp;06&nbsp;07&nbsp;&nbsp;08&nbsp;09&nbsp;0A&nbsp;0B&nbsp;0C&nbsp;0D&nbsp;0E&nbsp;0F&nbsp;&nbsp;text<br><br>00000000:&nbsp;&nbsp;&nbsp;&nbsp;45 00&nbsp;1B 00&nbsp;01 00&nbsp;4E 01&nbsp;&nbsp;05 00&nbsp;00 01&nbsp;00 00&nbsp;24 00&nbsp;&nbsp;E&nbsp;.&nbsp;.&nbsp;.&nbsp;.&nbsp;.&nbsp;N&nbsp;.&nbsp;.&nbsp;.&nbsp;.&nbsp;.&nbsp;.&nbsp;.&nbsp;$&nbsp;.<br>00000010:&nbsp;&nbsp;&nbsp;&nbsp;1A 00&nbsp;01 00&nbsp;04 00&nbsp;07 00&nbsp;&nbsp;00 00&nbsp;00 00&nbsp;00 00&nbsp;FF 00&nbsp;&nbsp;.&nbsp;.&nbsp;.&nbsp;.&nbsp;.&nbsp;.&nbsp;.&nbsp;.&nbsp;.&nbsp;.&nbsp;.&nbsp;.&nbsp;.&nbsp;.&nbsp;.&nbsp;.</span>"
      ],
      "text/plain": [
       "<IPython.core.display.HTML object>"
      ]
     },
     "metadata": {},
     "output_type": "display_data"
    },
    {
     "name": "stdout",
     "output_type": "stream",
     "text": [
      "[69, 27, 1, 334, 5, 256, 0, 36, 26, 1, 4, 7, 0, 0, 0, 255]\n",
      "\n",
      "[TileImage(x=69, y=27, z=1, page=334, index=5)]\n",
      "[TileData(unknown=0, width=36, height=26, tile_count=1, x=4, y=7)]\n",
      "[TileInfo(x=0, y=0, terrain_type=0)]\n",
      "\n"
     ]
    },
    {
     "data": {
      "image/png": "[encoded data removed]",
      "text/plain": [
       "<PIL.Image.Image image mode=RGBA size=87x120 at 0x7FEF5A6F0350>"
      ]
     },
     "metadata": {},
     "output_type": "display_data"
    },
    {
     "name": "stdout",
     "output_type": "stream",
     "text": [
      "a_treeb0.BD 11505 84\n"
     ]
    },
    {
     "data": {
      "text/html": [
       "<span style=\"font-family: Courier New, Courier, Lucida Sans Typewriter, Lucida Typewriter, monospace;\">&nbsp;&nbsp;&nbsp;&nbsp;&nbsp;&nbsp;&nbsp;&nbsp;&nbsp;&nbsp;&nbsp;&nbsp;&nbsp;&nbsp;00&nbsp;01&nbsp;02&nbsp;03&nbsp;04&nbsp;05&nbsp;06&nbsp;07&nbsp;&nbsp;08&nbsp;09&nbsp;0A&nbsp;0B&nbsp;0C&nbsp;0D&nbsp;0E&nbsp;0F&nbsp;&nbsp;text<br><br>00000000:&nbsp;&nbsp;&nbsp;&nbsp;41 00&nbsp;77 00&nbsp;02 00&nbsp;4E 01&nbsp;&nbsp;0C 00&nbsp;00 01&nbsp;04 00&nbsp;1E 00&nbsp;&nbsp;A&nbsp;.&nbsp;w&nbsp;.&nbsp;.&nbsp;.&nbsp;N&nbsp;.&nbsp;.&nbsp;.&nbsp;.&nbsp;.&nbsp;.&nbsp;.&nbsp;.&nbsp;.<br>00000010:&nbsp;&nbsp;&nbsp;&nbsp;72 00&nbsp;4E 01&nbsp;00 00&nbsp;03 FF&nbsp;&nbsp;04 00&nbsp;1E 00&nbsp;72 00&nbsp;01 00&nbsp;&nbsp;r&nbsp;.&nbsp;N&nbsp;.&nbsp;.&nbsp;.&nbsp;.&nbsp;.&nbsp;.&nbsp;.&nbsp;.&nbsp;.&nbsp;r&nbsp;.&nbsp;.&nbsp;.<br>00000020:&nbsp;&nbsp;&nbsp;&nbsp;FE FF&nbsp;63 00&nbsp;00 00&nbsp;00 00&nbsp;&nbsp;07 00&nbsp;FF 00&nbsp;&nbsp;.&nbsp;.&nbsp;c&nbsp;.&nbsp;.&nbsp;.&nbsp;.&nbsp;.&nbsp;.&nbsp;.&nbsp;.&nbsp;.</span>"
      ],
      "text/plain": [
       "<IPython.core.display.HTML object>"
      ]
     },
     "metadata": {},
     "output_type": "display_data"
    },
    {
     "name": "stdout",
     "output_type": "stream",
     "text": [
      "[65, 119, 2, 334, 12, 256, 4, 30, 114, 334, 0, -253, 4, 30, 114, 1, -2, 99, 0, 0, 7, 255]\n",
      "\n",
      "[TileImage(x=65, y=119, z=2, page=334, index=12), TileImage(x=4, y=30, z=114, page=334, index=0)]\n",
      "[TileData(unknown=4, width=30, height=114, tile_count=1, x=-2, y=99)]\n",
      "[TileInfo(x=0, y=0, terrain_type=7)]\n",
      "\n"
     ]
    },
    {
     "data": {
      "image/png": "[encoded data removed]",
      "text/plain": [
       "<PIL.Image.Image image mode=RGBA size=87x120 at 0x7FEF5A6E2F90>"
      ]
     },
     "metadata": {},
     "output_type": "display_data"
    },
    {
     "data": {
      "image/png": "[encoded data removed]",
      "text/plain": [
       "<PIL.Image.Image image mode=RGBA size=87x120 at 0x7FEF5B20E6D0>"
      ]
     },
     "metadata": {},
     "output_type": "display_data"
    },
    {
     "name": "stdout",
     "output_type": "stream",
     "text": [
      "A_TREEb1.BD 11589 72\n"
     ]
    },
    {
     "data": {
      "text/html": [
       "<span style=\"font-family: Courier New, Courier, Lucida Sans Typewriter, Lucida Typewriter, monospace;\">&nbsp;&nbsp;&nbsp;&nbsp;&nbsp;&nbsp;&nbsp;&nbsp;&nbsp;&nbsp;&nbsp;&nbsp;&nbsp;&nbsp;00&nbsp;01&nbsp;02&nbsp;03&nbsp;04&nbsp;05&nbsp;06&nbsp;07&nbsp;&nbsp;08&nbsp;09&nbsp;0A&nbsp;0B&nbsp;0C&nbsp;0D&nbsp;0E&nbsp;0F&nbsp;&nbsp;text<br><br>00000000:&nbsp;&nbsp;&nbsp;&nbsp;4B 00&nbsp;13 00&nbsp;01 00&nbsp;4E 01&nbsp;&nbsp;0B 00&nbsp;00 01&nbsp;02 00&nbsp;25 00&nbsp;&nbsp;K&nbsp;.&nbsp;.&nbsp;.&nbsp;.&nbsp;.&nbsp;N&nbsp;.&nbsp;.&nbsp;.&nbsp;.&nbsp;.&nbsp;.&nbsp;.&nbsp;%&nbsp;.<br>00000010:&nbsp;&nbsp;&nbsp;&nbsp;0D 00&nbsp;01 00&nbsp;05 00&nbsp;FE FF&nbsp;&nbsp;00 00&nbsp;00 00&nbsp;00 00&nbsp;FF 00&nbsp;&nbsp;.&nbsp;.&nbsp;.&nbsp;.&nbsp;.&nbsp;.&nbsp;.&nbsp;.&nbsp;.&nbsp;.&nbsp;.&nbsp;.&nbsp;.&nbsp;.&nbsp;.&nbsp;.</span>"
      ],
      "text/plain": [
       "<IPython.core.display.HTML object>"
      ]
     },
     "metadata": {},
     "output_type": "display_data"
    },
    {
     "name": "stdout",
     "output_type": "stream",
     "text": [
      "[75, 19, 1, 334, 11, 256, 2, 37, 13, 1, 5, -2, 0, 0, 0, 255]\n",
      "\n",
      "[TileImage(x=75, y=19, z=1, page=334, index=11)]\n",
      "[TileData(unknown=2, width=37, height=13, tile_count=1, x=5, y=-2)]\n",
      "[TileInfo(x=0, y=0, terrain_type=0)]\n",
      "\n"
     ]
    },
    {
     "data": {
      "image/png": "[encoded data removed]",
      "text/plain": [
       "<PIL.Image.Image image mode=RGBA size=87x120 at 0x7FEF5A6E2F90>"
      ]
     },
     "metadata": {},
     "output_type": "display_data"
    },
    {
     "name": "stdout",
     "output_type": "stream",
     "text": [
      "a_treec0.BD 11661 84\n"
     ]
    },
    {
     "data": {
      "text/html": [
       "<span style=\"font-family: Courier New, Courier, Lucida Sans Typewriter, Lucida Typewriter, monospace;\">&nbsp;&nbsp;&nbsp;&nbsp;&nbsp;&nbsp;&nbsp;&nbsp;&nbsp;&nbsp;&nbsp;&nbsp;&nbsp;&nbsp;00&nbsp;01&nbsp;02&nbsp;03&nbsp;04&nbsp;05&nbsp;06&nbsp;07&nbsp;&nbsp;08&nbsp;09&nbsp;0A&nbsp;0B&nbsp;0C&nbsp;0D&nbsp;0E&nbsp;0F&nbsp;&nbsp;text<br><br>00000000:&nbsp;&nbsp;&nbsp;&nbsp;4B 00&nbsp;5A 00&nbsp;02 00&nbsp;4E 01&nbsp;&nbsp;0D 00&nbsp;00 01&nbsp;04 00&nbsp;22 00&nbsp;&nbsp;K&nbsp;.&nbsp;Z&nbsp;.&nbsp;.&nbsp;.&nbsp;N&nbsp;.&nbsp;.&nbsp;.&nbsp;.&nbsp;.&nbsp;.&nbsp;.&nbsp;\"&nbsp;.<br>00000010:&nbsp;&nbsp;&nbsp;&nbsp;57 00&nbsp;4E 01&nbsp;01 00&nbsp;03 01&nbsp;&nbsp;04 00&nbsp;22 00&nbsp;57 00&nbsp;01 00&nbsp;&nbsp;W&nbsp;.&nbsp;N&nbsp;.&nbsp;.&nbsp;.&nbsp;.&nbsp;.&nbsp;.&nbsp;.&nbsp;\"&nbsp;.&nbsp;W&nbsp;.&nbsp;.&nbsp;.<br>00000020:&nbsp;&nbsp;&nbsp;&nbsp;02 00&nbsp;48 00&nbsp;00 00&nbsp;00 00&nbsp;&nbsp;05 00&nbsp;FF 00&nbsp;&nbsp;.&nbsp;.&nbsp;H&nbsp;.&nbsp;.&nbsp;.&nbsp;.&nbsp;.&nbsp;.&nbsp;.&nbsp;.&nbsp;.</span>"
      ],
      "text/plain": [
       "<IPython.core.display.HTML object>"
      ]
     },
     "metadata": {},
     "output_type": "display_data"
    },
    {
     "name": "stdout",
     "output_type": "stream",
     "text": [
      "[75, 90, 2, 334, 13, 256, 4, 34, 87, 334, 1, 259, 4, 34, 87, 1, 2, 72, 0, 0, 5, 255]\n",
      "\n",
      "[TileImage(x=75, y=90, z=2, page=334, index=13), TileImage(x=4, y=34, z=87, page=334, index=1)]\n",
      "[TileData(unknown=4, width=34, height=87, tile_count=1, x=2, y=72)]\n",
      "[TileInfo(x=0, y=0, terrain_type=5)]\n",
      "\n"
     ]
    },
    {
     "data": {
      "image/png": "[encoded data removed]",
      "text/plain": [
       "<PIL.Image.Image image mode=RGBA size=87x120 at 0x7FEF5BCF9CD0>"
      ]
     },
     "metadata": {},
     "output_type": "display_data"
    },
    {
     "data": {
      "image/png": "[encoded data removed]",
      "text/plain": [
       "<PIL.Image.Image image mode=RGBA size=87x120 at 0x7FEF5BCF9CD0>"
      ]
     },
     "metadata": {},
     "output_type": "display_data"
    },
    {
     "name": "stdout",
     "output_type": "stream",
     "text": [
      "a_treec1.bd 11745 72\n"
     ]
    },
    {
     "data": {
      "text/html": [
       "<span style=\"font-family: Courier New, Courier, Lucida Sans Typewriter, Lucida Typewriter, monospace;\">&nbsp;&nbsp;&nbsp;&nbsp;&nbsp;&nbsp;&nbsp;&nbsp;&nbsp;&nbsp;&nbsp;&nbsp;&nbsp;&nbsp;00&nbsp;01&nbsp;02&nbsp;03&nbsp;04&nbsp;05&nbsp;06&nbsp;07&nbsp;&nbsp;08&nbsp;09&nbsp;0A&nbsp;0B&nbsp;0C&nbsp;0D&nbsp;0E&nbsp;0F&nbsp;&nbsp;text<br><br>00000000:&nbsp;&nbsp;&nbsp;&nbsp;45 00&nbsp;1B 00&nbsp;01 00&nbsp;4E 01&nbsp;&nbsp;05 00&nbsp;00 01&nbsp;00 00&nbsp;24 00&nbsp;&nbsp;E&nbsp;.&nbsp;.&nbsp;.&nbsp;.&nbsp;.&nbsp;N&nbsp;.&nbsp;.&nbsp;.&nbsp;.&nbsp;.&nbsp;.&nbsp;.&nbsp;$&nbsp;.<br>00000010:&nbsp;&nbsp;&nbsp;&nbsp;1A 00&nbsp;01 00&nbsp;04 00&nbsp;07 00&nbsp;&nbsp;00 00&nbsp;00 00&nbsp;00 00&nbsp;FF 00&nbsp;&nbsp;.&nbsp;.&nbsp;.&nbsp;.&nbsp;.&nbsp;.&nbsp;.&nbsp;.&nbsp;.&nbsp;.&nbsp;.&nbsp;.&nbsp;.&nbsp;.&nbsp;.&nbsp;.</span>"
      ],
      "text/plain": [
       "<IPython.core.display.HTML object>"
      ]
     },
     "metadata": {},
     "output_type": "display_data"
    },
    {
     "name": "stdout",
     "output_type": "stream",
     "text": [
      "[69, 27, 1, 334, 5, 256, 0, 36, 26, 1, 4, 7, 0, 0, 0, 255]\n",
      "\n",
      "[TileImage(x=69, y=27, z=1, page=334, index=5)]\n",
      "[TileData(unknown=0, width=36, height=26, tile_count=1, x=4, y=7)]\n",
      "[TileInfo(x=0, y=0, terrain_type=0)]\n",
      "\n"
     ]
    },
    {
     "data": {
      "image/png": "[encoded data removed]",
      "text/plain": [
       "<PIL.Image.Image image mode=RGBA size=87x120 at 0x7FEF5AFDFED0>"
      ]
     },
     "metadata": {},
     "output_type": "display_data"
    },
    {
     "name": "stdout",
     "output_type": "stream",
     "text": [
      "a_treed0.BD 11817 84\n"
     ]
    },
    {
     "data": {
      "text/html": [
       "<span style=\"font-family: Courier New, Courier, Lucida Sans Typewriter, Lucida Typewriter, monospace;\">&nbsp;&nbsp;&nbsp;&nbsp;&nbsp;&nbsp;&nbsp;&nbsp;&nbsp;&nbsp;&nbsp;&nbsp;&nbsp;&nbsp;00&nbsp;01&nbsp;02&nbsp;03&nbsp;04&nbsp;05&nbsp;06&nbsp;07&nbsp;&nbsp;08&nbsp;09&nbsp;0A&nbsp;0B&nbsp;0C&nbsp;0D&nbsp;0E&nbsp;0F&nbsp;&nbsp;text<br><br>00000000:&nbsp;&nbsp;&nbsp;&nbsp;52 00&nbsp;5D 00&nbsp;02 00&nbsp;4E 01&nbsp;&nbsp;02 00&nbsp;03 01&nbsp;04 00&nbsp;2A 00&nbsp;&nbsp;R&nbsp;.&nbsp;]&nbsp;.&nbsp;.&nbsp;.&nbsp;N&nbsp;.&nbsp;.&nbsp;.&nbsp;.&nbsp;.&nbsp;.&nbsp;.&nbsp;*&nbsp;.<br>00000010:&nbsp;&nbsp;&nbsp;&nbsp;56 00&nbsp;4E 01&nbsp;0E 00&nbsp;00 01&nbsp;&nbsp;06 00&nbsp;2A 00&nbsp;56 00&nbsp;01 00&nbsp;&nbsp;V&nbsp;.&nbsp;N&nbsp;.&nbsp;.&nbsp;.&nbsp;.&nbsp;.&nbsp;.&nbsp;.&nbsp;*&nbsp;.&nbsp;V&nbsp;.&nbsp;.&nbsp;.<br>00000020:&nbsp;&nbsp;&nbsp;&nbsp;0A 00&nbsp;47 00&nbsp;00 00&nbsp;00 00&nbsp;&nbsp;05 00&nbsp;FF 00&nbsp;&nbsp;.&nbsp;.&nbsp;G&nbsp;.&nbsp;.&nbsp;.&nbsp;.&nbsp;.&nbsp;.&nbsp;.&nbsp;.&nbsp;.</span>"
      ],
      "text/plain": [
       "<IPython.core.display.HTML object>"
      ]
     },
     "metadata": {},
     "output_type": "display_data"
    },
    {
     "name": "stdout",
     "output_type": "stream",
     "text": [
      "[82, 93, 2, 334, 2, 259, 4, 42, 86, 334, 14, 256, 6, 42, 86, 1, 10, 71, 0, 0, 5, 255]\n",
      "\n",
      "[TileImage(x=82, y=93, z=2, page=334, index=2), TileImage(x=4, y=42, z=86, page=334, index=14)]\n",
      "[TileData(unknown=6, width=42, height=86, tile_count=1, x=10, y=71)]\n",
      "[TileInfo(x=0, y=0, terrain_type=5)]\n",
      "\n"
     ]
    },
    {
     "data": {
      "image/png": "[encoded data removed]",
      "text/plain": [
       "<PIL.Image.Image image mode=RGBA size=87x120 at 0x7FEF5A8C2FD0>"
      ]
     },
     "metadata": {},
     "output_type": "display_data"
    },
    {
     "data": {
      "image/png": "[encoded data removed]",
      "text/plain": [
       "<PIL.Image.Image image mode=RGBA size=87x120 at 0x7FEF5B20E290>"
      ]
     },
     "metadata": {},
     "output_type": "display_data"
    },
    {
     "name": "stdout",
     "output_type": "stream",
     "text": [
      "a_treed1.bd 11901 72\n"
     ]
    },
    {
     "data": {
      "text/html": [
       "<span style=\"font-family: Courier New, Courier, Lucida Sans Typewriter, Lucida Typewriter, monospace;\">&nbsp;&nbsp;&nbsp;&nbsp;&nbsp;&nbsp;&nbsp;&nbsp;&nbsp;&nbsp;&nbsp;&nbsp;&nbsp;&nbsp;00&nbsp;01&nbsp;02&nbsp;03&nbsp;04&nbsp;05&nbsp;06&nbsp;07&nbsp;&nbsp;08&nbsp;09&nbsp;0A&nbsp;0B&nbsp;0C&nbsp;0D&nbsp;0E&nbsp;0F&nbsp;&nbsp;text<br><br>00000000:&nbsp;&nbsp;&nbsp;&nbsp;4B 00&nbsp;13 00&nbsp;01 00&nbsp;4E 01&nbsp;&nbsp;0B 00&nbsp;00 01&nbsp;02 00&nbsp;25 00&nbsp;&nbsp;K&nbsp;.&nbsp;.&nbsp;.&nbsp;.&nbsp;.&nbsp;N&nbsp;.&nbsp;.&nbsp;.&nbsp;.&nbsp;.&nbsp;.&nbsp;.&nbsp;%&nbsp;.<br>00000010:&nbsp;&nbsp;&nbsp;&nbsp;0D 00&nbsp;01 00&nbsp;05 00&nbsp;FE FF&nbsp;&nbsp;00 00&nbsp;00 00&nbsp;00 00&nbsp;FF 00&nbsp;&nbsp;.&nbsp;.&nbsp;.&nbsp;.&nbsp;.&nbsp;.&nbsp;.&nbsp;.&nbsp;.&nbsp;.&nbsp;.&nbsp;.&nbsp;.&nbsp;.&nbsp;.&nbsp;.</span>"
      ],
      "text/plain": [
       "<IPython.core.display.HTML object>"
      ]
     },
     "metadata": {},
     "output_type": "display_data"
    },
    {
     "name": "stdout",
     "output_type": "stream",
     "text": [
      "[75, 19, 1, 334, 11, 256, 2, 37, 13, 1, 5, -2, 0, 0, 0, 255]\n",
      "\n",
      "[TileImage(x=75, y=19, z=1, page=334, index=11)]\n",
      "[TileData(unknown=2, width=37, height=13, tile_count=1, x=5, y=-2)]\n",
      "[TileInfo(x=0, y=0, terrain_type=0)]\n",
      "\n"
     ]
    },
    {
     "data": {
      "image/png": "[encoded data removed]",
      "text/plain": [
       "<PIL.Image.Image image mode=RGBA size=87x120 at 0x7FEF5A6F0E10>"
      ]
     },
     "metadata": {},
     "output_type": "display_data"
    },
    {
     "name": "stdout",
     "output_type": "stream",
     "text": [
      "a_treee0.BD 11973 84\n"
     ]
    },
    {
     "data": {
      "text/html": [
       "<span style=\"font-family: Courier New, Courier, Lucida Sans Typewriter, Lucida Typewriter, monospace;\">&nbsp;&nbsp;&nbsp;&nbsp;&nbsp;&nbsp;&nbsp;&nbsp;&nbsp;&nbsp;&nbsp;&nbsp;&nbsp;&nbsp;00&nbsp;01&nbsp;02&nbsp;03&nbsp;04&nbsp;05&nbsp;06&nbsp;07&nbsp;&nbsp;08&nbsp;09&nbsp;0A&nbsp;0B&nbsp;0C&nbsp;0D&nbsp;0E&nbsp;0F&nbsp;&nbsp;text<br><br>00000000:&nbsp;&nbsp;&nbsp;&nbsp;48 00&nbsp;51 00&nbsp;02 00&nbsp;4E 01&nbsp;&nbsp;0F 00&nbsp;00 01&nbsp;04 00&nbsp;1A 00&nbsp;&nbsp;H&nbsp;.&nbsp;Q&nbsp;.&nbsp;.&nbsp;.&nbsp;N&nbsp;.&nbsp;.&nbsp;.&nbsp;.&nbsp;.&nbsp;.&nbsp;.&nbsp;.&nbsp;.<br>00000010:&nbsp;&nbsp;&nbsp;&nbsp;4C 00&nbsp;4E 01&nbsp;03 00&nbsp;03 01&nbsp;&nbsp;04 00&nbsp;1A 00&nbsp;4C 00&nbsp;01 00&nbsp;&nbsp;L&nbsp;.&nbsp;N&nbsp;.&nbsp;.&nbsp;.&nbsp;.&nbsp;.&nbsp;.&nbsp;.&nbsp;.&nbsp;.&nbsp;L&nbsp;.&nbsp;.&nbsp;.<br>00000020:&nbsp;&nbsp;&nbsp;&nbsp;FA FF&nbsp;3D 00&nbsp;00 00&nbsp;00 00&nbsp;&nbsp;05 00&nbsp;FF 00&nbsp;&nbsp;.&nbsp;.&nbsp;=&nbsp;.&nbsp;.&nbsp;.&nbsp;.&nbsp;.&nbsp;.&nbsp;.&nbsp;.&nbsp;.</span>"
      ],
      "text/plain": [
       "<IPython.core.display.HTML object>"
      ]
     },
     "metadata": {},
     "output_type": "display_data"
    },
    {
     "name": "stdout",
     "output_type": "stream",
     "text": [
      "[72, 81, 2, 334, 15, 256, 4, 26, 76, 334, 3, 259, 4, 26, 76, 1, -6, 61, 0, 0, 5, 255]\n",
      "\n",
      "[TileImage(x=72, y=81, z=2, page=334, index=15), TileImage(x=4, y=26, z=76, page=334, index=3)]\n",
      "[TileData(unknown=4, width=26, height=76, tile_count=1, x=-6, y=61)]\n",
      "[TileInfo(x=0, y=0, terrain_type=5)]\n",
      "\n"
     ]
    },
    {
     "data": {
      "image/png": "[encoded data removed]",
      "text/plain": [
       "<PIL.Image.Image image mode=RGBA size=87x120 at 0x7FEF5AFDF210>"
      ]
     },
     "metadata": {},
     "output_type": "display_data"
    },
    {
     "data": {
      "image/png": "[encoded data removed]",
      "text/plain": [
       "<PIL.Image.Image image mode=RGBA size=87x120 at 0x7FEF5B20E190>"
      ]
     },
     "metadata": {},
     "output_type": "display_data"
    },
    {
     "name": "stdout",
     "output_type": "stream",
     "text": [
      "a_treee1.bd 12057 72\n"
     ]
    },
    {
     "data": {
      "text/html": [
       "<span style=\"font-family: Courier New, Courier, Lucida Sans Typewriter, Lucida Typewriter, monospace;\">&nbsp;&nbsp;&nbsp;&nbsp;&nbsp;&nbsp;&nbsp;&nbsp;&nbsp;&nbsp;&nbsp;&nbsp;&nbsp;&nbsp;00&nbsp;01&nbsp;02&nbsp;03&nbsp;04&nbsp;05&nbsp;06&nbsp;07&nbsp;&nbsp;08&nbsp;09&nbsp;0A&nbsp;0B&nbsp;0C&nbsp;0D&nbsp;0E&nbsp;0F&nbsp;&nbsp;text<br><br>00000000:&nbsp;&nbsp;&nbsp;&nbsp;45 00&nbsp;1B 00&nbsp;01 00&nbsp;4E 01&nbsp;&nbsp;05 00&nbsp;00 01&nbsp;00 00&nbsp;24 00&nbsp;&nbsp;E&nbsp;.&nbsp;.&nbsp;.&nbsp;.&nbsp;.&nbsp;N&nbsp;.&nbsp;.&nbsp;.&nbsp;.&nbsp;.&nbsp;.&nbsp;.&nbsp;$&nbsp;.<br>00000010:&nbsp;&nbsp;&nbsp;&nbsp;1A 00&nbsp;01 00&nbsp;04 00&nbsp;07 00&nbsp;&nbsp;00 00&nbsp;00 00&nbsp;00 00&nbsp;FF 00&nbsp;&nbsp;.&nbsp;.&nbsp;.&nbsp;.&nbsp;.&nbsp;.&nbsp;.&nbsp;.&nbsp;.&nbsp;.&nbsp;.&nbsp;.&nbsp;.&nbsp;.&nbsp;.&nbsp;.</span>"
      ],
      "text/plain": [
       "<IPython.core.display.HTML object>"
      ]
     },
     "metadata": {},
     "output_type": "display_data"
    },
    {
     "name": "stdout",
     "output_type": "stream",
     "text": [
      "[69, 27, 1, 334, 5, 256, 0, 36, 26, 1, 4, 7, 0, 0, 0, 255]\n",
      "\n",
      "[TileImage(x=69, y=27, z=1, page=334, index=5)]\n",
      "[TileData(unknown=0, width=36, height=26, tile_count=1, x=4, y=7)]\n",
      "[TileInfo(x=0, y=0, terrain_type=0)]\n",
      "\n"
     ]
    },
    {
     "data": {
      "image/png": "[encoded data removed]",
      "text/plain": [
       "<PIL.Image.Image image mode=RGBA size=87x120 at 0x7FEF5A6F0B90>"
      ]
     },
     "metadata": {},
     "output_type": "display_data"
    },
    {
     "name": "stdout",
     "output_type": "stream",
     "text": [
      "A_TREEf0.BD 12129 84\n"
     ]
    },
    {
     "data": {
      "text/html": [
       "<span style=\"font-family: Courier New, Courier, Lucida Sans Typewriter, Lucida Typewriter, monospace;\">&nbsp;&nbsp;&nbsp;&nbsp;&nbsp;&nbsp;&nbsp;&nbsp;&nbsp;&nbsp;&nbsp;&nbsp;&nbsp;&nbsp;00&nbsp;01&nbsp;02&nbsp;03&nbsp;04&nbsp;05&nbsp;06&nbsp;07&nbsp;&nbsp;08&nbsp;09&nbsp;0A&nbsp;0B&nbsp;0C&nbsp;0D&nbsp;0E&nbsp;0F&nbsp;&nbsp;text<br><br>00000000:&nbsp;&nbsp;&nbsp;&nbsp;3F 00&nbsp;3B 00&nbsp;02 00&nbsp;4E 01&nbsp;&nbsp;10 00&nbsp;00 01&nbsp;04 00&nbsp;1E 00&nbsp;&nbsp;?&nbsp;.&nbsp;;&nbsp;.&nbsp;.&nbsp;.&nbsp;N&nbsp;.&nbsp;.&nbsp;.&nbsp;.&nbsp;.&nbsp;.&nbsp;.&nbsp;.&nbsp;.<br>00000010:&nbsp;&nbsp;&nbsp;&nbsp;37 00&nbsp;4E 01&nbsp;04 00&nbsp;03 01&nbsp;&nbsp;04 00&nbsp;1E 00&nbsp;37 00&nbsp;01 00&nbsp;&nbsp;7&nbsp;.&nbsp;N&nbsp;.&nbsp;.&nbsp;.&nbsp;.&nbsp;.&nbsp;.&nbsp;.&nbsp;.&nbsp;.&nbsp;7&nbsp;.&nbsp;.&nbsp;.<br>00000020:&nbsp;&nbsp;&nbsp;&nbsp;FE FF&nbsp;28 00&nbsp;00 00&nbsp;00 00&nbsp;&nbsp;03 00&nbsp;FF 00&nbsp;&nbsp;.&nbsp;.&nbsp;(&nbsp;.&nbsp;.&nbsp;.&nbsp;.&nbsp;.&nbsp;.&nbsp;.&nbsp;.&nbsp;.</span>"
      ],
      "text/plain": [
       "<IPython.core.display.HTML object>"
      ]
     },
     "metadata": {},
     "output_type": "display_data"
    },
    {
     "name": "stdout",
     "output_type": "stream",
     "text": [
      "[63, 59, 2, 334, 16, 256, 4, 30, 55, 334, 4, 259, 4, 30, 55, 1, -2, 40, 0, 0, 3, 255]\n",
      "\n",
      "[TileImage(x=63, y=59, z=2, page=334, index=16), TileImage(x=4, y=30, z=55, page=334, index=4)]\n",
      "[TileData(unknown=4, width=30, height=55, tile_count=1, x=-2, y=40)]\n",
      "[TileInfo(x=0, y=0, terrain_type=3)]\n",
      "\n"
     ]
    },
    {
     "data": {
      "image/png": "[encoded data removed]",
      "text/plain": [
       "<PIL.Image.Image image mode=RGBA size=87x120 at 0x7FEF5B20E190>"
      ]
     },
     "metadata": {},
     "output_type": "display_data"
    },
    {
     "data": {
      "image/png": "[encoded data removed]",
      "text/plain": [
       "<PIL.Image.Image image mode=RGBA size=87x120 at 0x7FEF5A8C24D0>"
      ]
     },
     "metadata": {},
     "output_type": "display_data"
    },
    {
     "name": "stdout",
     "output_type": "stream",
     "text": [
      "a_treef1.bd 12213 72\n"
     ]
    },
    {
     "data": {
      "text/html": [
       "<span style=\"font-family: Courier New, Courier, Lucida Sans Typewriter, Lucida Typewriter, monospace;\">&nbsp;&nbsp;&nbsp;&nbsp;&nbsp;&nbsp;&nbsp;&nbsp;&nbsp;&nbsp;&nbsp;&nbsp;&nbsp;&nbsp;00&nbsp;01&nbsp;02&nbsp;03&nbsp;04&nbsp;05&nbsp;06&nbsp;07&nbsp;&nbsp;08&nbsp;09&nbsp;0A&nbsp;0B&nbsp;0C&nbsp;0D&nbsp;0E&nbsp;0F&nbsp;&nbsp;text<br><br>00000000:&nbsp;&nbsp;&nbsp;&nbsp;4B 00&nbsp;13 00&nbsp;01 00&nbsp;4E 01&nbsp;&nbsp;0B 00&nbsp;00 01&nbsp;02 00&nbsp;25 00&nbsp;&nbsp;K&nbsp;.&nbsp;.&nbsp;.&nbsp;.&nbsp;.&nbsp;N&nbsp;.&nbsp;.&nbsp;.&nbsp;.&nbsp;.&nbsp;.&nbsp;.&nbsp;%&nbsp;.<br>00000010:&nbsp;&nbsp;&nbsp;&nbsp;0D 00&nbsp;01 00&nbsp;05 00&nbsp;FE FF&nbsp;&nbsp;00 00&nbsp;00 00&nbsp;00 00&nbsp;FF 00&nbsp;&nbsp;.&nbsp;.&nbsp;.&nbsp;.&nbsp;.&nbsp;.&nbsp;.&nbsp;.&nbsp;.&nbsp;.&nbsp;.&nbsp;.&nbsp;.&nbsp;.&nbsp;.&nbsp;.</span>"
      ],
      "text/plain": [
       "<IPython.core.display.HTML object>"
      ]
     },
     "metadata": {},
     "output_type": "display_data"
    },
    {
     "name": "stdout",
     "output_type": "stream",
     "text": [
      "[75, 19, 1, 334, 11, 256, 2, 37, 13, 1, 5, -2, 0, 0, 0, 255]\n",
      "\n",
      "[TileImage(x=75, y=19, z=1, page=334, index=11)]\n",
      "[TileData(unknown=2, width=37, height=13, tile_count=1, x=5, y=-2)]\n",
      "[TileInfo(x=0, y=0, terrain_type=0)]\n",
      "\n"
     ]
    },
    {
     "data": {
      "image/png": "[encoded data removed]",
      "text/plain": [
       "<PIL.Image.Image image mode=RGBA size=87x120 at 0x7FEF5A6E2F90>"
      ]
     },
     "metadata": {},
     "output_type": "display_data"
    },
    {
     "name": "stdout",
     "output_type": "stream",
     "text": [
      "A_TREEg0.BD 12285 84\n"
     ]
    },
    {
     "data": {
      "text/html": [
       "<span style=\"font-family: Courier New, Courier, Lucida Sans Typewriter, Lucida Typewriter, monospace;\">&nbsp;&nbsp;&nbsp;&nbsp;&nbsp;&nbsp;&nbsp;&nbsp;&nbsp;&nbsp;&nbsp;&nbsp;&nbsp;&nbsp;00&nbsp;01&nbsp;02&nbsp;03&nbsp;04&nbsp;05&nbsp;06&nbsp;07&nbsp;&nbsp;08&nbsp;09&nbsp;0A&nbsp;0B&nbsp;0C&nbsp;0D&nbsp;0E&nbsp;0F&nbsp;&nbsp;text<br><br>00000000:&nbsp;&nbsp;&nbsp;&nbsp;3B 00&nbsp;60 00&nbsp;02 00&nbsp;4E 01&nbsp;&nbsp;06 00&nbsp;03 01&nbsp;00 00&nbsp;1A 00&nbsp;&nbsp;;&nbsp;.&nbsp;`&nbsp;.&nbsp;.&nbsp;.&nbsp;N&nbsp;.&nbsp;.&nbsp;.&nbsp;.&nbsp;.&nbsp;.&nbsp;.&nbsp;.&nbsp;.<br>00000010:&nbsp;&nbsp;&nbsp;&nbsp;5C 00&nbsp;4E 01&nbsp;10 00&nbsp;00 01&nbsp;&nbsp;04 00&nbsp;1A 00&nbsp;5C 00&nbsp;01 00&nbsp;&nbsp;\\&nbsp;.&nbsp;N&nbsp;.&nbsp;.&nbsp;.&nbsp;.&nbsp;.&nbsp;.&nbsp;.&nbsp;.&nbsp;.&nbsp;\\&nbsp;.&nbsp;.&nbsp;.<br>00000020:&nbsp;&nbsp;&nbsp;&nbsp;FA FF&nbsp;4D 00&nbsp;00 00&nbsp;00 00&nbsp;&nbsp;06 00&nbsp;FF 00&nbsp;&nbsp;.&nbsp;.&nbsp;M&nbsp;.&nbsp;.&nbsp;.&nbsp;.&nbsp;.&nbsp;.&nbsp;.&nbsp;.&nbsp;.</span>"
      ],
      "text/plain": [
       "<IPython.core.display.HTML object>"
      ]
     },
     "metadata": {},
     "output_type": "display_data"
    },
    {
     "name": "stdout",
     "output_type": "stream",
     "text": [
      "[59, 96, 2, 334, 6, 259, 0, 26, 92, 334, 16, 256, 4, 26, 92, 1, -6, 77, 0, 0, 6, 255]\n",
      "\n",
      "[TileImage(x=59, y=96, z=2, page=334, index=6), TileImage(x=0, y=26, z=92, page=334, index=16)]\n",
      "[TileData(unknown=4, width=26, height=92, tile_count=1, x=-6, y=77)]\n",
      "[TileInfo(x=0, y=0, terrain_type=6)]\n",
      "\n"
     ]
    },
    {
     "data": {
      "image/png": "[encoded data removed]",
      "text/plain": [
       "<PIL.Image.Image image mode=RGBA size=87x120 at 0x7FEF5A6F0C10>"
      ]
     },
     "metadata": {},
     "output_type": "display_data"
    },
    {
     "data": {
      "image/png": "[encoded data removed]",
      "text/plain": [
       "<PIL.Image.Image image mode=RGBA size=87x120 at 0x7FEF5A8C2950>"
      ]
     },
     "metadata": {},
     "output_type": "display_data"
    },
    {
     "name": "stdout",
     "output_type": "stream",
     "text": [
      "a_treeg1.bd 12369 72\n"
     ]
    },
    {
     "data": {
      "text/html": [
       "<span style=\"font-family: Courier New, Courier, Lucida Sans Typewriter, Lucida Typewriter, monospace;\">&nbsp;&nbsp;&nbsp;&nbsp;&nbsp;&nbsp;&nbsp;&nbsp;&nbsp;&nbsp;&nbsp;&nbsp;&nbsp;&nbsp;00&nbsp;01&nbsp;02&nbsp;03&nbsp;04&nbsp;05&nbsp;06&nbsp;07&nbsp;&nbsp;08&nbsp;09&nbsp;0A&nbsp;0B&nbsp;0C&nbsp;0D&nbsp;0E&nbsp;0F&nbsp;&nbsp;text<br><br>00000000:&nbsp;&nbsp;&nbsp;&nbsp;45 00&nbsp;1B 00&nbsp;01 00&nbsp;4E 01&nbsp;&nbsp;05 00&nbsp;00 01&nbsp;00 00&nbsp;24 00&nbsp;&nbsp;E&nbsp;.&nbsp;.&nbsp;.&nbsp;.&nbsp;.&nbsp;N&nbsp;.&nbsp;.&nbsp;.&nbsp;.&nbsp;.&nbsp;.&nbsp;.&nbsp;$&nbsp;.<br>00000010:&nbsp;&nbsp;&nbsp;&nbsp;1A 00&nbsp;01 00&nbsp;04 00&nbsp;07 00&nbsp;&nbsp;00 00&nbsp;00 00&nbsp;00 00&nbsp;FF 00&nbsp;&nbsp;.&nbsp;.&nbsp;.&nbsp;.&nbsp;.&nbsp;.&nbsp;.&nbsp;.&nbsp;.&nbsp;.&nbsp;.&nbsp;.&nbsp;.&nbsp;.&nbsp;.&nbsp;.</span>"
      ],
      "text/plain": [
       "<IPython.core.display.HTML object>"
      ]
     },
     "metadata": {},
     "output_type": "display_data"
    },
    {
     "name": "stdout",
     "output_type": "stream",
     "text": [
      "[69, 27, 1, 334, 5, 256, 0, 36, 26, 1, 4, 7, 0, 0, 0, 255]\n",
      "\n",
      "[TileImage(x=69, y=27, z=1, page=334, index=5)]\n",
      "[TileData(unknown=0, width=36, height=26, tile_count=1, x=4, y=7)]\n",
      "[TileInfo(x=0, y=0, terrain_type=0)]\n",
      "\n"
     ]
    },
    {
     "data": {
      "image/png": "[encoded data removed]",
      "text/plain": [
       "<PIL.Image.Image image mode=RGBA size=87x120 at 0x7FEF5A6E2F90>"
      ]
     },
     "metadata": {},
     "output_type": "display_data"
    },
    {
     "name": "stdout",
     "output_type": "stream",
     "text": [
      "A_TREEh0.BD 12441 84\n"
     ]
    },
    {
     "data": {
      "text/html": [
       "<span style=\"font-family: Courier New, Courier, Lucida Sans Typewriter, Lucida Typewriter, monospace;\">&nbsp;&nbsp;&nbsp;&nbsp;&nbsp;&nbsp;&nbsp;&nbsp;&nbsp;&nbsp;&nbsp;&nbsp;&nbsp;&nbsp;00&nbsp;01&nbsp;02&nbsp;03&nbsp;04&nbsp;05&nbsp;06&nbsp;07&nbsp;&nbsp;08&nbsp;09&nbsp;0A&nbsp;0B&nbsp;0C&nbsp;0D&nbsp;0E&nbsp;0F&nbsp;&nbsp;text<br><br>00000000:&nbsp;&nbsp;&nbsp;&nbsp;3B 00&nbsp;5B 00&nbsp;02 00&nbsp;4E 01&nbsp;&nbsp;13 00&nbsp;00 01&nbsp;04 00&nbsp;1D 00&nbsp;&nbsp;;&nbsp;.&nbsp;[&nbsp;.&nbsp;.&nbsp;.&nbsp;N&nbsp;.&nbsp;.&nbsp;.&nbsp;.&nbsp;.&nbsp;.&nbsp;.&nbsp;.&nbsp;.<br>00000010:&nbsp;&nbsp;&nbsp;&nbsp;54 00&nbsp;4E 01&nbsp;07 00&nbsp;03 01&nbsp;&nbsp;04 00&nbsp;1D 00&nbsp;54 00&nbsp;01 00&nbsp;&nbsp;T&nbsp;.&nbsp;N&nbsp;.&nbsp;.&nbsp;.&nbsp;.&nbsp;.&nbsp;.&nbsp;.&nbsp;.&nbsp;.&nbsp;T&nbsp;.&nbsp;.&nbsp;.<br>00000020:&nbsp;&nbsp;&nbsp;&nbsp;FD FF&nbsp;45 00&nbsp;00 00&nbsp;00 00&nbsp;&nbsp;05 00&nbsp;FF 00&nbsp;&nbsp;.&nbsp;.&nbsp;E&nbsp;.&nbsp;.&nbsp;.&nbsp;.&nbsp;.&nbsp;.&nbsp;.&nbsp;.&nbsp;.</span>"
      ],
      "text/plain": [
       "<IPython.core.display.HTML object>"
      ]
     },
     "metadata": {},
     "output_type": "display_data"
    },
    {
     "name": "stdout",
     "output_type": "stream",
     "text": [
      "[59, 91, 2, 334, 19, 256, 4, 29, 84, 334, 7, 259, 4, 29, 84, 1, -3, 69, 0, 0, 5, 255]\n",
      "\n",
      "[TileImage(x=59, y=91, z=2, page=334, index=19), TileImage(x=4, y=29, z=84, page=334, index=7)]\n",
      "[TileData(unknown=4, width=29, height=84, tile_count=1, x=-3, y=69)]\n",
      "[TileInfo(x=0, y=0, terrain_type=5)]\n",
      "\n"
     ]
    },
    {
     "data": {
      "image/png": "[encoded data removed]",
      "text/plain": [
       "<PIL.Image.Image image mode=RGBA size=87x120 at 0x7FEF5B20E650>"
      ]
     },
     "metadata": {},
     "output_type": "display_data"
    },
    {
     "data": {
      "image/png": "[encoded data removed]",
      "text/plain": [
       "<PIL.Image.Image image mode=RGBA size=87x120 at 0x7FEF5BCF9CD0>"
      ]
     },
     "metadata": {},
     "output_type": "display_data"
    },
    {
     "name": "stdout",
     "output_type": "stream",
     "text": [
      "a_treeh1.bd 12525 72\n"
     ]
    },
    {
     "data": {
      "text/html": [
       "<span style=\"font-family: Courier New, Courier, Lucida Sans Typewriter, Lucida Typewriter, monospace;\">&nbsp;&nbsp;&nbsp;&nbsp;&nbsp;&nbsp;&nbsp;&nbsp;&nbsp;&nbsp;&nbsp;&nbsp;&nbsp;&nbsp;00&nbsp;01&nbsp;02&nbsp;03&nbsp;04&nbsp;05&nbsp;06&nbsp;07&nbsp;&nbsp;08&nbsp;09&nbsp;0A&nbsp;0B&nbsp;0C&nbsp;0D&nbsp;0E&nbsp;0F&nbsp;&nbsp;text<br><br>00000000:&nbsp;&nbsp;&nbsp;&nbsp;4B 00&nbsp;13 00&nbsp;01 00&nbsp;4E 01&nbsp;&nbsp;0B 00&nbsp;00 01&nbsp;02 00&nbsp;25 00&nbsp;&nbsp;K&nbsp;.&nbsp;.&nbsp;.&nbsp;.&nbsp;.&nbsp;N&nbsp;.&nbsp;.&nbsp;.&nbsp;.&nbsp;.&nbsp;.&nbsp;.&nbsp;%&nbsp;.<br>00000010:&nbsp;&nbsp;&nbsp;&nbsp;0D 00&nbsp;01 00&nbsp;05 00&nbsp;FE FF&nbsp;&nbsp;00 00&nbsp;00 00&nbsp;00 00&nbsp;FF 00&nbsp;&nbsp;.&nbsp;.&nbsp;.&nbsp;.&nbsp;.&nbsp;.&nbsp;.&nbsp;.&nbsp;.&nbsp;.&nbsp;.&nbsp;.&nbsp;.&nbsp;.&nbsp;.&nbsp;.</span>"
      ],
      "text/plain": [
       "<IPython.core.display.HTML object>"
      ]
     },
     "metadata": {},
     "output_type": "display_data"
    },
    {
     "name": "stdout",
     "output_type": "stream",
     "text": [
      "[75, 19, 1, 334, 11, 256, 2, 37, 13, 1, 5, -2, 0, 0, 0, 255]\n",
      "\n",
      "[TileImage(x=75, y=19, z=1, page=334, index=11)]\n",
      "[TileData(unknown=2, width=37, height=13, tile_count=1, x=5, y=-2)]\n",
      "[TileInfo(x=0, y=0, terrain_type=0)]\n",
      "\n"
     ]
    },
    {
     "data": {
      "image/png": "[encoded data removed]",
      "text/plain": [
       "<PIL.Image.Image image mode=RGBA size=87x120 at 0x7FEF5A6E2F90>"
      ]
     },
     "metadata": {},
     "output_type": "display_data"
    },
    {
     "name": "stdout",
     "output_type": "stream",
     "text": [
      "A_TREEi0.BD 12597 84\n"
     ]
    },
    {
     "data": {
      "text/html": [
       "<span style=\"font-family: Courier New, Courier, Lucida Sans Typewriter, Lucida Typewriter, monospace;\">&nbsp;&nbsp;&nbsp;&nbsp;&nbsp;&nbsp;&nbsp;&nbsp;&nbsp;&nbsp;&nbsp;&nbsp;&nbsp;&nbsp;00&nbsp;01&nbsp;02&nbsp;03&nbsp;04&nbsp;05&nbsp;06&nbsp;07&nbsp;&nbsp;08&nbsp;09&nbsp;0A&nbsp;0B&nbsp;0C&nbsp;0D&nbsp;0E&nbsp;0F&nbsp;&nbsp;text<br><br>00000000:&nbsp;&nbsp;&nbsp;&nbsp;1E 00&nbsp;20 00&nbsp;02 00&nbsp;4E 01&nbsp;&nbsp;14 00&nbsp;00 01&nbsp;04 00&nbsp;0E 00&nbsp;&nbsp;.&nbsp;.&nbsp; &nbsp;.&nbsp;.&nbsp;.&nbsp;N&nbsp;.&nbsp;.&nbsp;.&nbsp;.&nbsp;.&nbsp;.&nbsp;.&nbsp;.&nbsp;.<br>00000010:&nbsp;&nbsp;&nbsp;&nbsp;1E 00&nbsp;4E 01&nbsp;08 00&nbsp;03 01&nbsp;&nbsp;04 00&nbsp;0E 00&nbsp;1E 00&nbsp;01 00&nbsp;&nbsp;.&nbsp;.&nbsp;N&nbsp;.&nbsp;.&nbsp;.&nbsp;.&nbsp;.&nbsp;.&nbsp;.&nbsp;.&nbsp;.&nbsp;.&nbsp;.&nbsp;.&nbsp;.<br>00000020:&nbsp;&nbsp;&nbsp;&nbsp;EE FF&nbsp;0F 00&nbsp;00 00&nbsp;00 00&nbsp;&nbsp;02 00&nbsp;FF 00&nbsp;&nbsp;.&nbsp;.&nbsp;.&nbsp;.&nbsp;.&nbsp;.&nbsp;.&nbsp;.&nbsp;.&nbsp;.&nbsp;.&nbsp;.</span>"
      ],
      "text/plain": [
       "<IPython.core.display.HTML object>"
      ]
     },
     "metadata": {},
     "output_type": "display_data"
    },
    {
     "name": "stdout",
     "output_type": "stream",
     "text": [
      "[30, 32, 2, 334, 20, 256, 4, 14, 30, 334, 8, 259, 4, 14, 30, 1, -18, 15, 0, 0, 2, 255]\n",
      "\n",
      "[TileImage(x=30, y=32, z=2, page=334, index=20), TileImage(x=4, y=14, z=30, page=334, index=8)]\n",
      "[TileData(unknown=4, width=14, height=30, tile_count=1, x=-18, y=15)]\n",
      "[TileInfo(x=0, y=0, terrain_type=2)]\n",
      "\n"
     ]
    },
    {
     "data": {
      "image/png": "[encoded data removed]",
      "text/plain": [
       "<PIL.Image.Image image mode=RGBA size=87x120 at 0x7FEF5BCF9CD0>"
      ]
     },
     "metadata": {},
     "output_type": "display_data"
    },
    {
     "data": {
      "image/png": "[encoded data removed]",
      "text/plain": [
       "<PIL.Image.Image image mode=RGBA size=87x120 at 0x7FEF5A6E2F90>"
      ]
     },
     "metadata": {},
     "output_type": "display_data"
    },
    {
     "name": "stdout",
     "output_type": "stream",
     "text": [
      "a_treei1.bd 12681 72\n"
     ]
    },
    {
     "data": {
      "text/html": [
       "<span style=\"font-family: Courier New, Courier, Lucida Sans Typewriter, Lucida Typewriter, monospace;\">&nbsp;&nbsp;&nbsp;&nbsp;&nbsp;&nbsp;&nbsp;&nbsp;&nbsp;&nbsp;&nbsp;&nbsp;&nbsp;&nbsp;00&nbsp;01&nbsp;02&nbsp;03&nbsp;04&nbsp;05&nbsp;06&nbsp;07&nbsp;&nbsp;08&nbsp;09&nbsp;0A&nbsp;0B&nbsp;0C&nbsp;0D&nbsp;0E&nbsp;0F&nbsp;&nbsp;text<br><br>00000000:&nbsp;&nbsp;&nbsp;&nbsp;45 00&nbsp;1B 00&nbsp;01 00&nbsp;4E 01&nbsp;&nbsp;05 00&nbsp;00 01&nbsp;00 00&nbsp;24 00&nbsp;&nbsp;E&nbsp;.&nbsp;.&nbsp;.&nbsp;.&nbsp;.&nbsp;N&nbsp;.&nbsp;.&nbsp;.&nbsp;.&nbsp;.&nbsp;.&nbsp;.&nbsp;$&nbsp;.<br>00000010:&nbsp;&nbsp;&nbsp;&nbsp;1A 00&nbsp;01 00&nbsp;04 00&nbsp;07 00&nbsp;&nbsp;00 00&nbsp;00 00&nbsp;00 00&nbsp;FF 00&nbsp;&nbsp;.&nbsp;.&nbsp;.&nbsp;.&nbsp;.&nbsp;.&nbsp;.&nbsp;.&nbsp;.&nbsp;.&nbsp;.&nbsp;.&nbsp;.&nbsp;.&nbsp;.&nbsp;.</span>"
      ],
      "text/plain": [
       "<IPython.core.display.HTML object>"
      ]
     },
     "metadata": {},
     "output_type": "display_data"
    },
    {
     "name": "stdout",
     "output_type": "stream",
     "text": [
      "[69, 27, 1, 334, 5, 256, 0, 36, 26, 1, 4, 7, 0, 0, 0, 255]\n",
      "\n",
      "[TileImage(x=69, y=27, z=1, page=334, index=5)]\n",
      "[TileData(unknown=0, width=36, height=26, tile_count=1, x=4, y=7)]\n",
      "[TileInfo(x=0, y=0, terrain_type=0)]\n",
      "\n"
     ]
    },
    {
     "data": {
      "image/png": "[encoded data removed]",
      "text/plain": [
       "<PIL.Image.Image image mode=RGBA size=87x120 at 0x7FEF5BCF9CD0>"
      ]
     },
     "metadata": {},
     "output_type": "display_data"
    },
    {
     "name": "stdout",
     "output_type": "stream",
     "text": [
      "A_TREEj0.BD 12753 84\n"
     ]
    },
    {
     "data": {
      "text/html": [
       "<span style=\"font-family: Courier New, Courier, Lucida Sans Typewriter, Lucida Typewriter, monospace;\">&nbsp;&nbsp;&nbsp;&nbsp;&nbsp;&nbsp;&nbsp;&nbsp;&nbsp;&nbsp;&nbsp;&nbsp;&nbsp;&nbsp;00&nbsp;01&nbsp;02&nbsp;03&nbsp;04&nbsp;05&nbsp;06&nbsp;07&nbsp;&nbsp;08&nbsp;09&nbsp;0A&nbsp;0B&nbsp;0C&nbsp;0D&nbsp;0E&nbsp;0F&nbsp;&nbsp;text<br><br>00000000:&nbsp;&nbsp;&nbsp;&nbsp;43 00&nbsp;56 00&nbsp;02 00&nbsp;4E 01&nbsp;&nbsp;09 00&nbsp;03 01&nbsp;04 00&nbsp;1A 00&nbsp;&nbsp;C&nbsp;.&nbsp;V&nbsp;.&nbsp;.&nbsp;.&nbsp;N&nbsp;.&nbsp;.&nbsp;.&nbsp;.&nbsp;.&nbsp;.&nbsp;.&nbsp;.&nbsp;.<br>00000010:&nbsp;&nbsp;&nbsp;&nbsp;4F 00&nbsp;4E 01&nbsp;15 00&nbsp;00 01&nbsp;&nbsp;06 00&nbsp;1A 00&nbsp;4F 00&nbsp;01 00&nbsp;&nbsp;O&nbsp;.&nbsp;N&nbsp;.&nbsp;.&nbsp;.&nbsp;.&nbsp;.&nbsp;.&nbsp;.&nbsp;.&nbsp;.&nbsp;O&nbsp;.&nbsp;.&nbsp;.<br>00000020:&nbsp;&nbsp;&nbsp;&nbsp;FA FF&nbsp;40 00&nbsp;00 00&nbsp;00 00&nbsp;&nbsp;05 00&nbsp;FF 00&nbsp;&nbsp;.&nbsp;.&nbsp;@&nbsp;.&nbsp;.&nbsp;.&nbsp;.&nbsp;.&nbsp;.&nbsp;.&nbsp;.&nbsp;.</span>"
      ],
      "text/plain": [
       "<IPython.core.display.HTML object>"
      ]
     },
     "metadata": {},
     "output_type": "display_data"
    },
    {
     "name": "stdout",
     "output_type": "stream",
     "text": [
      "[67, 86, 2, 334, 9, 259, 4, 26, 79, 334, 21, 256, 6, 26, 79, 1, -6, 64, 0, 0, 5, 255]\n",
      "\n",
      "[TileImage(x=67, y=86, z=2, page=334, index=9), TileImage(x=4, y=26, z=79, page=334, index=21)]\n",
      "[TileData(unknown=6, width=26, height=79, tile_count=1, x=-6, y=64)]\n",
      "[TileInfo(x=0, y=0, terrain_type=5)]\n",
      "\n"
     ]
    },
    {
     "data": {
      "image/png": "[encoded data removed]",
      "text/plain": [
       "<PIL.Image.Image image mode=RGBA size=87x120 at 0x7FEF5A6F0790>"
      ]
     },
     "metadata": {},
     "output_type": "display_data"
    },
    {
     "data": {
      "image/png": "[encoded data removed]",
      "text/plain": [
       "<PIL.Image.Image image mode=RGBA size=87x120 at 0x7FEF5A8C28D0>"
      ]
     },
     "metadata": {},
     "output_type": "display_data"
    },
    {
     "name": "stdout",
     "output_type": "stream",
     "text": [
      "a_treej1.bd 12837 72\n"
     ]
    },
    {
     "data": {
      "text/html": [
       "<span style=\"font-family: Courier New, Courier, Lucida Sans Typewriter, Lucida Typewriter, monospace;\">&nbsp;&nbsp;&nbsp;&nbsp;&nbsp;&nbsp;&nbsp;&nbsp;&nbsp;&nbsp;&nbsp;&nbsp;&nbsp;&nbsp;00&nbsp;01&nbsp;02&nbsp;03&nbsp;04&nbsp;05&nbsp;06&nbsp;07&nbsp;&nbsp;08&nbsp;09&nbsp;0A&nbsp;0B&nbsp;0C&nbsp;0D&nbsp;0E&nbsp;0F&nbsp;&nbsp;text<br><br>00000000:&nbsp;&nbsp;&nbsp;&nbsp;4B 00&nbsp;13 00&nbsp;01 00&nbsp;4E 01&nbsp;&nbsp;0B 00&nbsp;00 01&nbsp;02 00&nbsp;25 00&nbsp;&nbsp;K&nbsp;.&nbsp;.&nbsp;.&nbsp;.&nbsp;.&nbsp;N&nbsp;.&nbsp;.&nbsp;.&nbsp;.&nbsp;.&nbsp;.&nbsp;.&nbsp;%&nbsp;.<br>00000010:&nbsp;&nbsp;&nbsp;&nbsp;0D 00&nbsp;01 00&nbsp;05 00&nbsp;FE FF&nbsp;&nbsp;00 00&nbsp;00 00&nbsp;00 00&nbsp;FF 00&nbsp;&nbsp;.&nbsp;.&nbsp;.&nbsp;.&nbsp;.&nbsp;.&nbsp;.&nbsp;.&nbsp;.&nbsp;.&nbsp;.&nbsp;.&nbsp;.&nbsp;.&nbsp;.&nbsp;.</span>"
      ],
      "text/plain": [
       "<IPython.core.display.HTML object>"
      ]
     },
     "metadata": {},
     "output_type": "display_data"
    },
    {
     "name": "stdout",
     "output_type": "stream",
     "text": [
      "[75, 19, 1, 334, 11, 256, 2, 37, 13, 1, 5, -2, 0, 0, 0, 255]\n",
      "\n",
      "[TileImage(x=75, y=19, z=1, page=334, index=11)]\n",
      "[TileData(unknown=2, width=37, height=13, tile_count=1, x=5, y=-2)]\n",
      "[TileInfo(x=0, y=0, terrain_type=0)]\n",
      "\n"
     ]
    },
    {
     "data": {
      "image/png": "[encoded data removed]",
      "text/plain": [
       "<PIL.Image.Image image mode=RGBA size=87x120 at 0x7FEF5A6F0090>"
      ]
     },
     "metadata": {},
     "output_type": "display_data"
    },
    {
     "name": "stdout",
     "output_type": "stream",
     "text": [
      "A_TREEk0.BD 12909 84\n"
     ]
    },
    {
     "data": {
      "text/html": [
       "<span style=\"font-family: Courier New, Courier, Lucida Sans Typewriter, Lucida Typewriter, monospace;\">&nbsp;&nbsp;&nbsp;&nbsp;&nbsp;&nbsp;&nbsp;&nbsp;&nbsp;&nbsp;&nbsp;&nbsp;&nbsp;&nbsp;00&nbsp;01&nbsp;02&nbsp;03&nbsp;04&nbsp;05&nbsp;06&nbsp;07&nbsp;&nbsp;08&nbsp;09&nbsp;0A&nbsp;0B&nbsp;0C&nbsp;0D&nbsp;0E&nbsp;0F&nbsp;&nbsp;text<br><br>00000000:&nbsp;&nbsp;&nbsp;&nbsp;37 00&nbsp;38 00&nbsp;02 00&nbsp;4E 01&nbsp;&nbsp;16 00&nbsp;00 01&nbsp;02 00&nbsp;1D 00&nbsp;&nbsp;7&nbsp;.&nbsp;8&nbsp;.&nbsp;.&nbsp;.&nbsp;N&nbsp;.&nbsp;.&nbsp;.&nbsp;.&nbsp;.&nbsp;.&nbsp;.&nbsp;.&nbsp;.<br>00000010:&nbsp;&nbsp;&nbsp;&nbsp;35 00&nbsp;4E 01&nbsp;0A 00&nbsp;03 01&nbsp;&nbsp;06 00&nbsp;1D 00&nbsp;35 00&nbsp;01 00&nbsp;&nbsp;5&nbsp;.&nbsp;N&nbsp;.&nbsp;.&nbsp;.&nbsp;.&nbsp;.&nbsp;.&nbsp;.&nbsp;.&nbsp;.&nbsp;5&nbsp;.&nbsp;.&nbsp;.<br>00000020:&nbsp;&nbsp;&nbsp;&nbsp;FD FF&nbsp;26 00&nbsp;00 00&nbsp;00 00&nbsp;&nbsp;03 00&nbsp;FF 00&nbsp;&nbsp;.&nbsp;.&nbsp;&&nbsp;.&nbsp;.&nbsp;.&nbsp;.&nbsp;.&nbsp;.&nbsp;.&nbsp;.&nbsp;.</span>"
      ],
      "text/plain": [
       "<IPython.core.display.HTML object>"
      ]
     },
     "metadata": {},
     "output_type": "display_data"
    },
    {
     "name": "stdout",
     "output_type": "stream",
     "text": [
      "[55, 56, 2, 334, 22, 256, 2, 29, 53, 334, 10, 259, 6, 29, 53, 1, -3, 38, 0, 0, 3, 255]\n",
      "\n",
      "[TileImage(x=55, y=56, z=2, page=334, index=22), TileImage(x=2, y=29, z=53, page=334, index=10)]\n",
      "[TileData(unknown=6, width=29, height=53, tile_count=1, x=-3, y=38)]\n",
      "[TileInfo(x=0, y=0, terrain_type=3)]\n",
      "\n"
     ]
    },
    {
     "name": "stderr",
     "output_type": "stream",
     "text": [
      "WARNING:root:Could not display 334 index 22\n"
     ]
    },
    {
     "data": {
      "image/png": "[encoded data removed]",
      "text/plain": [
       "<PIL.Image.Image image mode=RGBA size=87x120 at 0x7FEF5B20E210>"
      ]
     },
     "metadata": {},
     "output_type": "display_data"
    },
    {
     "name": "stdout",
     "output_type": "stream",
     "text": [
      "a_treek1.bd 12993 72\n"
     ]
    },
    {
     "data": {
      "text/html": [
       "<span style=\"font-family: Courier New, Courier, Lucida Sans Typewriter, Lucida Typewriter, monospace;\">&nbsp;&nbsp;&nbsp;&nbsp;&nbsp;&nbsp;&nbsp;&nbsp;&nbsp;&nbsp;&nbsp;&nbsp;&nbsp;&nbsp;00&nbsp;01&nbsp;02&nbsp;03&nbsp;04&nbsp;05&nbsp;06&nbsp;07&nbsp;&nbsp;08&nbsp;09&nbsp;0A&nbsp;0B&nbsp;0C&nbsp;0D&nbsp;0E&nbsp;0F&nbsp;&nbsp;text<br><br>00000000:&nbsp;&nbsp;&nbsp;&nbsp;45 00&nbsp;1B 00&nbsp;01 00&nbsp;4E 01&nbsp;&nbsp;05 00&nbsp;00 01&nbsp;00 00&nbsp;24 00&nbsp;&nbsp;E&nbsp;.&nbsp;.&nbsp;.&nbsp;.&nbsp;.&nbsp;N&nbsp;.&nbsp;.&nbsp;.&nbsp;.&nbsp;.&nbsp;.&nbsp;.&nbsp;$&nbsp;.<br>00000010:&nbsp;&nbsp;&nbsp;&nbsp;1A 00&nbsp;01 00&nbsp;04 00&nbsp;07 00&nbsp;&nbsp;00 00&nbsp;00 00&nbsp;00 00&nbsp;FF 00&nbsp;&nbsp;.&nbsp;.&nbsp;.&nbsp;.&nbsp;.&nbsp;.&nbsp;.&nbsp;.&nbsp;.&nbsp;.&nbsp;.&nbsp;.&nbsp;.&nbsp;.&nbsp;.&nbsp;.</span>"
      ],
      "text/plain": [
       "<IPython.core.display.HTML object>"
      ]
     },
     "metadata": {},
     "output_type": "display_data"
    },
    {
     "name": "stdout",
     "output_type": "stream",
     "text": [
      "[69, 27, 1, 334, 5, 256, 0, 36, 26, 1, 4, 7, 0, 0, 0, 255]\n",
      "\n",
      "[TileImage(x=69, y=27, z=1, page=334, index=5)]\n",
      "[TileData(unknown=0, width=36, height=26, tile_count=1, x=4, y=7)]\n",
      "[TileInfo(x=0, y=0, terrain_type=0)]\n",
      "\n"
     ]
    },
    {
     "data": {
      "image/png": "[encoded data removed]",
      "text/plain": [
       "<PIL.Image.Image image mode=RGBA size=87x120 at 0x7FEF5BCF9CD0>"
      ]
     },
     "metadata": {},
     "output_type": "display_data"
    },
    {
     "name": "stdout",
     "output_type": "stream",
     "text": [
      "AA.BDG\u0000\u0000\u0000\u0000\u0000 13065 268\n"
     ]
    },
    {
     "data": {
      "text/html": [
       "<span style=\"font-family: Courier New, Courier, Lucida Sans Typewriter, Lucida Typewriter, monospace;\">&nbsp;&nbsp;&nbsp;&nbsp;&nbsp;&nbsp;&nbsp;&nbsp;&nbsp;&nbsp;&nbsp;&nbsp;&nbsp;&nbsp;00&nbsp;01&nbsp;02&nbsp;03&nbsp;04&nbsp;05&nbsp;06&nbsp;07&nbsp;&nbsp;08&nbsp;09&nbsp;0A&nbsp;0B&nbsp;0C&nbsp;0D&nbsp;0E&nbsp;0F&nbsp;&nbsp;text<br><br>00000000:&nbsp;&nbsp;&nbsp;&nbsp;C0 00&nbsp;85 00&nbsp;0C 00&nbsp;02 00&nbsp;&nbsp;0D 00&nbsp;00 01&nbsp;20 00&nbsp;A0 00&nbsp;&nbsp;.&nbsp;.&nbsp;.&nbsp;.&nbsp;.&nbsp;.&nbsp;.&nbsp;.&nbsp;.&nbsp;.&nbsp;.&nbsp;.&nbsp; &nbsp;.&nbsp;.&nbsp;.<br>00000010:&nbsp;&nbsp;&nbsp;&nbsp;45 00&nbsp;02 00&nbsp;09 00&nbsp;00 FF&nbsp;&nbsp;20 00&nbsp;20 00&nbsp;45 00&nbsp;02 00&nbsp;&nbsp;E&nbsp;.&nbsp;.&nbsp;.&nbsp;.&nbsp;.&nbsp;.&nbsp;.&nbsp; &nbsp;.&nbsp; &nbsp;.&nbsp;E&nbsp;.&nbsp;.&nbsp;.<br>00000020:&nbsp;&nbsp;&nbsp;&nbsp;08 00&nbsp;00 FF&nbsp;40 00&nbsp;60 00&nbsp;&nbsp;25 00&nbsp;02 00&nbsp;03 00&nbsp;01 FF&nbsp;&nbsp;.&nbsp;.&nbsp;.&nbsp;.&nbsp;@&nbsp;.&nbsp;`&nbsp;.&nbsp;%&nbsp;.&nbsp;.&nbsp;.&nbsp;.&nbsp;.&nbsp;.&nbsp;.<br>00000030:&nbsp;&nbsp;&nbsp;&nbsp;00 00&nbsp;20 00&nbsp;65 00&nbsp;02 00&nbsp;&nbsp;03 00&nbsp;02 01&nbsp;00 00&nbsp;A0 00&nbsp;&nbsp;.&nbsp;.&nbsp; &nbsp;.&nbsp;e&nbsp;.&nbsp;.&nbsp;.&nbsp;.&nbsp;.&nbsp;.&nbsp;.&nbsp;.&nbsp;.&nbsp;.&nbsp;.<br>00000040:&nbsp;&nbsp;&nbsp;&nbsp;65 00&nbsp;02 00&nbsp;0C 00&nbsp;00 01&nbsp;&nbsp;20 00&nbsp;80 00&nbsp;55 00&nbsp;02 00&nbsp;&nbsp;e&nbsp;.&nbsp;.&nbsp;.&nbsp;.&nbsp;.&nbsp;.&nbsp;.&nbsp; &nbsp;.&nbsp;.&nbsp;.&nbsp;U&nbsp;.&nbsp;.&nbsp;.<br>00000050:&nbsp;&nbsp;&nbsp;&nbsp;0A 00&nbsp;00 FF&nbsp;20 00&nbsp;40 00&nbsp;&nbsp;55 00&nbsp;02 00&nbsp;0B 00&nbsp;00 01&nbsp;&nbsp;.&nbsp;.&nbsp;.&nbsp;.&nbsp; &nbsp;.&nbsp;@&nbsp;.&nbsp;U&nbsp;.&nbsp;.&nbsp;.&nbsp;.&nbsp;.&nbsp;.&nbsp;.<br>00000060:&nbsp;&nbsp;&nbsp;&nbsp;10 00&nbsp;60 00&nbsp;65 00&nbsp;02 00&nbsp;&nbsp;05 00&nbsp;01 FF&nbsp;00 00&nbsp;40 00&nbsp;&nbsp;.&nbsp;.&nbsp;`&nbsp;.&nbsp;e&nbsp;.&nbsp;.&nbsp;.&nbsp;.&nbsp;.&nbsp;.&nbsp;.&nbsp;.&nbsp;.&nbsp;@&nbsp;.<br>00000070:&nbsp;&nbsp;&nbsp;&nbsp;75 00&nbsp;02 00&nbsp;03 00&nbsp;02 01&nbsp;&nbsp;00 00&nbsp;80 00&nbsp;75 00&nbsp;02 00&nbsp;&nbsp;u&nbsp;.&nbsp;.&nbsp;.&nbsp;.&nbsp;.&nbsp;.&nbsp;.&nbsp;.&nbsp;.&nbsp;.&nbsp;.&nbsp;u&nbsp;.&nbsp;.&nbsp;.<br>00000080:&nbsp;&nbsp;&nbsp;&nbsp;03 00&nbsp;01 FF&nbsp;00 00&nbsp;60 00&nbsp;&nbsp;85 00&nbsp;02 00&nbsp;03 00&nbsp;02 01&nbsp;&nbsp;.&nbsp;.&nbsp;.&nbsp;.&nbsp;.&nbsp;.&nbsp;`&nbsp;.&nbsp;.&nbsp;.&nbsp;.&nbsp;.&nbsp;.&nbsp;.&nbsp;.&nbsp;.<br>00000090:&nbsp;&nbsp;&nbsp;&nbsp;00 00&nbsp;60 00&nbsp;85 00&nbsp;09 00&nbsp;&nbsp;40 00&nbsp;46 00&nbsp;00 00&nbsp;01 00&nbsp;&nbsp;.&nbsp;.&nbsp;`&nbsp;.&nbsp;.&nbsp;.&nbsp;.&nbsp;.&nbsp;@&nbsp;.&nbsp;F&nbsp;.&nbsp;.&nbsp;.&nbsp;.&nbsp;.<br>000000A0:&nbsp;&nbsp;&nbsp;&nbsp;02 00&nbsp;FF 00&nbsp;00 00&nbsp;00 00&nbsp;&nbsp;04 00&nbsp;FF 00&nbsp;00 00&nbsp;FF FF&nbsp;&nbsp;.&nbsp;.&nbsp;.&nbsp;.&nbsp;.&nbsp;.&nbsp;.&nbsp;.&nbsp;.&nbsp;.&nbsp;.&nbsp;.&nbsp;.&nbsp;.&nbsp;.&nbsp;.<br>000000B0:&nbsp;&nbsp;&nbsp;&nbsp;02 00&nbsp;FF 00&nbsp;FF FF&nbsp;FF FF&nbsp;&nbsp;02 00&nbsp;FF 00&nbsp;FE FF&nbsp;00 00&nbsp;&nbsp;.&nbsp;.&nbsp;.&nbsp;.&nbsp;.&nbsp;.&nbsp;.&nbsp;.&nbsp;.&nbsp;.&nbsp;.&nbsp;.&nbsp;.&nbsp;.&nbsp;.&nbsp;.<br>000000C0:&nbsp;&nbsp;&nbsp;&nbsp;02 00&nbsp;FF 00&nbsp;FF FF&nbsp;00 00&nbsp;&nbsp;02 00&nbsp;FF 00&nbsp;01 00&nbsp;00 00&nbsp;&nbsp;.&nbsp;.&nbsp;.&nbsp;.&nbsp;.&nbsp;.&nbsp;.&nbsp;.&nbsp;.&nbsp;.&nbsp;.&nbsp;.&nbsp;.&nbsp;.&nbsp;.&nbsp;.<br>000000D0:&nbsp;&nbsp;&nbsp;&nbsp;02 00&nbsp;FF 00&nbsp;02 00&nbsp;00 00&nbsp;&nbsp;02 00&nbsp;FF 00&nbsp;01 00&nbsp;FF FF&nbsp;&nbsp;.&nbsp;.&nbsp;.&nbsp;.&nbsp;.&nbsp;.&nbsp;.&nbsp;.&nbsp;.&nbsp;.&nbsp;.&nbsp;.&nbsp;.&nbsp;.&nbsp;.&nbsp;.<br>000000E0:&nbsp;&nbsp;&nbsp;&nbsp;02 00&nbsp;FF 00&nbsp;&nbsp;&nbsp;&nbsp;.&nbsp;.&nbsp;.&nbsp;.&nbsp;</span>"
      ],
      "text/plain": [
       "<IPython.core.display.HTML object>"
      ]
     },
     "metadata": {},
     "output_type": "display_data"
    },
    {
     "name": "stdout",
     "output_type": "stream",
     "text": [
      "[192, 133, 12, 2, 13, 256, 32, 160, 69, 2, 9, -256, 32, 32, 69, 2, 8, -256, 64, 96, 37, 2, 3, -255, 0, 32, 101, 2, 3, 258, 0, 160, 101, 2, 12, 256, 32, 128, 85, 2, 10, -256, 32, 64, 85, 2, 11, 256, 16, 96, 101, 2, 5, -255, 0, 64, 117, 2, 3, 258, 0, 128, 117, 2, 3, -255, 0, 96, 133, 2, 3, 258, 0, 96, 133, 9, 64, 70, 0, 1, 2, 255, 0, 0, 4, 255, 0, -1, 2, 255, -1, -1, 2, 255, -2, 0, 2, 255, -1, 0, 2, 255, 1, 0, 2, 255, 2, 0, 2, 255, 1, -1, 2, 255]\n",
      "\n",
      "[TileImage(x=192, y=133, z=12, page=2, index=13), TileImage(x=32, y=160, z=69, page=2, index=9), TileImage(x=32, y=32, z=69, page=2, index=8), TileImage(x=64, y=96, z=37, page=2, index=3), TileImage(x=0, y=32, z=101, page=2, index=3), TileImage(x=0, y=160, z=101, page=2, index=12), TileImage(x=32, y=128, z=85, page=2, index=10), TileImage(x=32, y=64, z=85, page=2, index=11), TileImage(x=16, y=96, z=101, page=2, index=5), TileImage(x=0, y=64, z=117, page=2, index=3), TileImage(x=0, y=128, z=117, page=2, index=3), TileImage(x=0, y=96, z=133, page=2, index=3)]\n",
      "[TileData(unknown=0, width=96, height=133, tile_count=9, x=64, y=70)]\n",
      "[TileInfo(x=0, y=1, terrain_type=2), TileInfo(x=0, y=0, terrain_type=4), TileInfo(x=0, y=-1, terrain_type=2), TileInfo(x=-1, y=-1, terrain_type=2), TileInfo(x=-2, y=0, terrain_type=2), TileInfo(x=-1, y=0, terrain_type=2), TileInfo(x=1, y=0, terrain_type=2), TileInfo(x=2, y=0, terrain_type=2), TileInfo(x=1, y=-1, terrain_type=2)]\n",
      "\n"
     ]
    },
    {
     "data": {
      "image/png": "[encoded data removed]",
      "text/plain": [
       "<PIL.Image.Image image mode=RGBA size=127x78 at 0x7FEF5A8C2FD0>"
      ]
     },
     "metadata": {},
     "output_type": "display_data"
    },
    {
     "data": {
      "image/png": "[encoded data removed]",
      "text/plain": [
       "<PIL.Image.Image image mode=RGBA size=127x78 at 0x7FEF5BA0B790>"
      ]
     },
     "metadata": {},
     "output_type": "display_data"
    },
    {
     "data": {
      "image/png": "[encoded data removed]",
      "text/plain": [
       "<PIL.Image.Image image mode=RGBA size=127x78 at 0x7FEF5B332350>"
      ]
     },
     "metadata": {},
     "output_type": "display_data"
    },
    {
     "data": {
      "image/png": "[encoded data removed]",
      "text/plain": [
       "<PIL.Image.Image image mode=RGBA size=127x78 at 0x7FEF5BA0B2D0>"
      ]
     },
     "metadata": {},
     "output_type": "display_data"
    },
    {
     "data": {
      "image/png": "[encoded data removed]",
      "text/plain": [
       "<PIL.Image.Image image mode=RGBA size=127x78 at 0x7FEF5B21D450>"
      ]
     },
     "metadata": {},
     "output_type": "display_data"
    },
    {
     "data": {
      "image/png": "[encoded data removed]",
      "text/plain": [
       "<PIL.Image.Image image mode=RGBA size=127x78 at 0x7FEF5B20E3D0>"
      ]
     },
     "metadata": {},
     "output_type": "display_data"
    },
    {
     "data": {
      "image/png": "[encoded data removed]",
      "text/plain": [
       "<PIL.Image.Image image mode=RGBA size=127x78 at 0x7FEF5A8C2FD0>"
      ]
     },
     "metadata": {},
     "output_type": "display_data"
    },
    {
     "data": {
      "image/png": "[encoded data removed]",
      "text/plain": [
       "<PIL.Image.Image image mode=RGBA size=127x78 at 0x7FEF5B20E190>"
      ]
     },
     "metadata": {},
     "output_type": "display_data"
    },
    {
     "data": {
      "image/png": "[encoded data removed]",
      "text/plain": [
       "<PIL.Image.Image image mode=RGBA size=127x78 at 0x7FEF783E6190>"
      ]
     },
     "metadata": {},
     "output_type": "display_data"
    },
    {
     "data": {
      "image/png": "[encoded data removed]",
      "text/plain": [
       "<PIL.Image.Image image mode=RGBA size=127x78 at 0x7FEF5B20E3D0>"
      ]
     },
     "metadata": {},
     "output_type": "display_data"
    },
    {
     "data": {
      "image/png": "[encoded data removed]",
      "text/plain": [
       "<PIL.Image.Image image mode=RGBA size=127x78 at 0x7FEF5A88E190>"
      ]
     },
     "metadata": {},
     "output_type": "display_data"
    },
    {
     "data": {
      "image/png": "[encoded data removed]",
      "text/plain": [
       "<PIL.Image.Image image mode=RGBA size=127x78 at 0x7FEF5AFDFE50>"
      ]
     },
     "metadata": {},
     "output_type": "display_data"
    },
    {
     "name": "stdout",
     "output_type": "stream",
     "text": [
      "AA_____0.BD 13333 268\n"
     ]
    },
    {
     "data": {
      "text/html": [
       "<span style=\"font-family: Courier New, Courier, Lucida Sans Typewriter, Lucida Typewriter, monospace;\">&nbsp;&nbsp;&nbsp;&nbsp;&nbsp;&nbsp;&nbsp;&nbsp;&nbsp;&nbsp;&nbsp;&nbsp;&nbsp;&nbsp;00&nbsp;01&nbsp;02&nbsp;03&nbsp;04&nbsp;05&nbsp;06&nbsp;07&nbsp;&nbsp;08&nbsp;09&nbsp;0A&nbsp;0B&nbsp;0C&nbsp;0D&nbsp;0E&nbsp;0F&nbsp;&nbsp;text<br><br>00000000:&nbsp;&nbsp;&nbsp;&nbsp;C0 00&nbsp;85 00&nbsp;0C 00&nbsp;02 00&nbsp;&nbsp;0D 00&nbsp;00 01&nbsp;20 00&nbsp;A0 00&nbsp;&nbsp;.&nbsp;.&nbsp;.&nbsp;.&nbsp;.&nbsp;.&nbsp;.&nbsp;.&nbsp;.&nbsp;.&nbsp;.&nbsp;.&nbsp; &nbsp;.&nbsp;.&nbsp;.<br>00000010:&nbsp;&nbsp;&nbsp;&nbsp;45 00&nbsp;02 00&nbsp;09 00&nbsp;00 FF&nbsp;&nbsp;20 00&nbsp;20 00&nbsp;45 00&nbsp;02 00&nbsp;&nbsp;E&nbsp;.&nbsp;.&nbsp;.&nbsp;.&nbsp;.&nbsp;.&nbsp;.&nbsp; &nbsp;.&nbsp; &nbsp;.&nbsp;E&nbsp;.&nbsp;.&nbsp;.<br>00000020:&nbsp;&nbsp;&nbsp;&nbsp;08 00&nbsp;00 FF&nbsp;40 00&nbsp;60 00&nbsp;&nbsp;25 00&nbsp;02 00&nbsp;03 00&nbsp;01 FF&nbsp;&nbsp;.&nbsp;.&nbsp;.&nbsp;.&nbsp;@&nbsp;.&nbsp;`&nbsp;.&nbsp;%&nbsp;.&nbsp;.&nbsp;.&nbsp;.&nbsp;.&nbsp;.&nbsp;.<br>00000030:&nbsp;&nbsp;&nbsp;&nbsp;00 00&nbsp;20 00&nbsp;65 00&nbsp;02 00&nbsp;&nbsp;03 00&nbsp;02 01&nbsp;00 00&nbsp;A0 00&nbsp;&nbsp;.&nbsp;.&nbsp; &nbsp;.&nbsp;e&nbsp;.&nbsp;.&nbsp;.&nbsp;.&nbsp;.&nbsp;.&nbsp;.&nbsp;.&nbsp;.&nbsp;.&nbsp;.<br>00000040:&nbsp;&nbsp;&nbsp;&nbsp;65 00&nbsp;02 00&nbsp;0C 00&nbsp;00 01&nbsp;&nbsp;20 00&nbsp;80 00&nbsp;55 00&nbsp;02 00&nbsp;&nbsp;e&nbsp;.&nbsp;.&nbsp;.&nbsp;.&nbsp;.&nbsp;.&nbsp;.&nbsp; &nbsp;.&nbsp;.&nbsp;.&nbsp;U&nbsp;.&nbsp;.&nbsp;.<br>00000050:&nbsp;&nbsp;&nbsp;&nbsp;0A 00&nbsp;00 FF&nbsp;20 00&nbsp;40 00&nbsp;&nbsp;55 00&nbsp;02 00&nbsp;0B 00&nbsp;00 01&nbsp;&nbsp;.&nbsp;.&nbsp;.&nbsp;.&nbsp; &nbsp;.&nbsp;@&nbsp;.&nbsp;U&nbsp;.&nbsp;.&nbsp;.&nbsp;.&nbsp;.&nbsp;.&nbsp;.<br>00000060:&nbsp;&nbsp;&nbsp;&nbsp;10 00&nbsp;60 00&nbsp;65 00&nbsp;02 00&nbsp;&nbsp;05 00&nbsp;01 FF&nbsp;00 00&nbsp;40 00&nbsp;&nbsp;.&nbsp;.&nbsp;`&nbsp;.&nbsp;e&nbsp;.&nbsp;.&nbsp;.&nbsp;.&nbsp;.&nbsp;.&nbsp;.&nbsp;.&nbsp;.&nbsp;@&nbsp;.<br>00000070:&nbsp;&nbsp;&nbsp;&nbsp;75 00&nbsp;02 00&nbsp;03 00&nbsp;02 01&nbsp;&nbsp;00 00&nbsp;80 00&nbsp;75 00&nbsp;02 00&nbsp;&nbsp;u&nbsp;.&nbsp;.&nbsp;.&nbsp;.&nbsp;.&nbsp;.&nbsp;.&nbsp;.&nbsp;.&nbsp;.&nbsp;.&nbsp;u&nbsp;.&nbsp;.&nbsp;.<br>00000080:&nbsp;&nbsp;&nbsp;&nbsp;03 00&nbsp;01 FF&nbsp;00 00&nbsp;60 00&nbsp;&nbsp;85 00&nbsp;02 00&nbsp;03 00&nbsp;02 01&nbsp;&nbsp;.&nbsp;.&nbsp;.&nbsp;.&nbsp;.&nbsp;.&nbsp;`&nbsp;.&nbsp;.&nbsp;.&nbsp;.&nbsp;.&nbsp;.&nbsp;.&nbsp;.&nbsp;.<br>00000090:&nbsp;&nbsp;&nbsp;&nbsp;00 00&nbsp;60 00&nbsp;85 00&nbsp;09 00&nbsp;&nbsp;40 00&nbsp;46 00&nbsp;00 00&nbsp;01 00&nbsp;&nbsp;.&nbsp;.&nbsp;`&nbsp;.&nbsp;.&nbsp;.&nbsp;.&nbsp;.&nbsp;@&nbsp;.&nbsp;F&nbsp;.&nbsp;.&nbsp;.&nbsp;.&nbsp;.<br>000000A0:&nbsp;&nbsp;&nbsp;&nbsp;02 00&nbsp;83 00&nbsp;00 00&nbsp;00 00&nbsp;&nbsp;04 00&nbsp;FF 00&nbsp;00 00&nbsp;FF FF&nbsp;&nbsp;.&nbsp;.&nbsp;.&nbsp;.&nbsp;.&nbsp;.&nbsp;.&nbsp;.&nbsp;.&nbsp;.&nbsp;.&nbsp;.&nbsp;.&nbsp;.&nbsp;.&nbsp;.<br>000000B0:&nbsp;&nbsp;&nbsp;&nbsp;02 00&nbsp;FF 00&nbsp;FF FF&nbsp;FF FF&nbsp;&nbsp;02 00&nbsp;FF 00&nbsp;FE FF&nbsp;00 00&nbsp;&nbsp;.&nbsp;.&nbsp;.&nbsp;.&nbsp;.&nbsp;.&nbsp;.&nbsp;.&nbsp;.&nbsp;.&nbsp;.&nbsp;.&nbsp;.&nbsp;.&nbsp;.&nbsp;.<br>000000C0:&nbsp;&nbsp;&nbsp;&nbsp;02 00&nbsp;FF 00&nbsp;FF FF&nbsp;00 00&nbsp;&nbsp;02 00&nbsp;8F 00&nbsp;01 00&nbsp;00 00&nbsp;&nbsp;.&nbsp;.&nbsp;.&nbsp;.&nbsp;.&nbsp;.&nbsp;.&nbsp;.&nbsp;.&nbsp;.&nbsp;.&nbsp;.&nbsp;.&nbsp;.&nbsp;.&nbsp;.<br>000000D0:&nbsp;&nbsp;&nbsp;&nbsp;02 00&nbsp;FF 00&nbsp;02 00&nbsp;00 00&nbsp;&nbsp;02 00&nbsp;FF 00&nbsp;01 00&nbsp;FF FF&nbsp;&nbsp;.&nbsp;.&nbsp;.&nbsp;.&nbsp;.&nbsp;.&nbsp;.&nbsp;.&nbsp;.&nbsp;.&nbsp;.&nbsp;.&nbsp;.&nbsp;.&nbsp;.&nbsp;.<br>000000E0:&nbsp;&nbsp;&nbsp;&nbsp;02 00&nbsp;FF 00&nbsp;&nbsp;&nbsp;&nbsp;.&nbsp;.&nbsp;.&nbsp;.&nbsp;</span>"
      ],
      "text/plain": [
       "<IPython.core.display.HTML object>"
      ]
     },
     "metadata": {},
     "output_type": "display_data"
    },
    {
     "name": "stderr",
     "output_type": "stream",
     "text": [
      "WARNING:root:run length is 13\n",
      "WARNING:root:run length is 7\n"
     ]
    },
    {
     "ename": "IndexError",
     "evalue": "list index out of range",
     "output_type": "error",
     "traceback": [
      "\u001b[0;31m---------------------------------------------------------------------------\u001b[0m",
      "\u001b[0;31mIndexError\u001b[0m                                Traceback (most recent call last)",
      "\u001b[0;32m<ipython-input-10-58b2eb92fdc3>\u001b[0m in \u001b[0;36m<module>\u001b[0;34m\u001b[0m\n\u001b[1;32m     52\u001b[0m \u001b[0;34m\u001b[0m\u001b[0m\n\u001b[1;32m     53\u001b[0m \u001b[0;34m\u001b[0m\u001b[0m\n\u001b[0;32m---> 54\u001b[0;31m \u001b[0mread_muk\u001b[0m\u001b[0;34m(\u001b[0m\u001b[0;34m)\u001b[0m\u001b[0;34m\u001b[0m\u001b[0;34m\u001b[0m\u001b[0m\n\u001b[0m",
      "\u001b[0;32m<ipython-input-4-393b7239ea6d>\u001b[0m in \u001b[0;36mread_muk\u001b[0;34m()\u001b[0m\n\u001b[1;32m     31\u001b[0m             \u001b[0mfile\u001b[0m\u001b[0;34m.\u001b[0m\u001b[0mseek\u001b[0m\u001b[0;34m(\u001b[0m\u001b[0mf\u001b[0m\u001b[0;34m.\u001b[0m\u001b[0moffset\u001b[0m\u001b[0;34m)\u001b[0m\u001b[0;34m\u001b[0m\u001b[0;34m\u001b[0m\u001b[0m\n\u001b[1;32m     32\u001b[0m             \u001b[0mprint\u001b[0m\u001b[0;34m(\u001b[0m\u001b[0mf\u001b[0m\u001b[0;34m.\u001b[0m\u001b[0mname\u001b[0m\u001b[0;34m,\u001b[0m \u001b[0mf\u001b[0m\u001b[0;34m.\u001b[0m\u001b[0moffset\u001b[0m\u001b[0;34m,\u001b[0m \u001b[0mf\u001b[0m\u001b[0;34m.\u001b[0m\u001b[0mlength\u001b[0m\u001b[0;34m)\u001b[0m\u001b[0;34m\u001b[0m\u001b[0;34m\u001b[0m\u001b[0m\n\u001b[0;32m---> 33\u001b[0;31m             \u001b[0mread_virtual_file\u001b[0m\u001b[0;34m(\u001b[0m\u001b[0mfile\u001b[0m\u001b[0;34m,\u001b[0m \u001b[0mf\u001b[0m\u001b[0;34m.\u001b[0m\u001b[0mname\u001b[0m\u001b[0;34m,\u001b[0m \u001b[0mf\u001b[0m\u001b[0;34m.\u001b[0m\u001b[0mlength\u001b[0m\u001b[0;34m)\u001b[0m\u001b[0;34m\u001b[0m\u001b[0;34m\u001b[0m\u001b[0m\n\u001b[0m\u001b[1;32m     34\u001b[0m         \u001b[0mpos\u001b[0m\u001b[0;34m,\u001b[0m \u001b[0msize\u001b[0m \u001b[0;34m=\u001b[0m \u001b[0mfile\u001b[0m\u001b[0;34m.\u001b[0m\u001b[0mtell\u001b[0m\u001b[0;34m(\u001b[0m\u001b[0;34m)\u001b[0m\u001b[0;34m,\u001b[0m \u001b[0mos\u001b[0m\u001b[0;34m.\u001b[0m\u001b[0mfstat\u001b[0m\u001b[0;34m(\u001b[0m\u001b[0mfile\u001b[0m\u001b[0;34m.\u001b[0m\u001b[0mfileno\u001b[0m\u001b[0;34m(\u001b[0m\u001b[0;34m)\u001b[0m\u001b[0;34m)\u001b[0m\u001b[0;34m.\u001b[0m\u001b[0mst_size\u001b[0m\u001b[0;34m\u001b[0m\u001b[0;34m\u001b[0m\u001b[0m\n\u001b[1;32m     35\u001b[0m         \u001b[0;32massert\u001b[0m \u001b[0mpos\u001b[0m \u001b[0;34m==\u001b[0m \u001b[0msize\u001b[0m \u001b[0;34m,\u001b[0m \u001b[0;34mf\"Did not read to EOF {pos} of {size}\"\u001b[0m\u001b[0;34m\u001b[0m\u001b[0;34m\u001b[0m\u001b[0m\n",
      "\u001b[0;32m<ipython-input-10-58b2eb92fdc3>\u001b[0m in \u001b[0;36mread_virtual_file\u001b[0;34m(file, filepath, length)\u001b[0m\n\u001b[1;32m     38\u001b[0m             \u001b[0mrun\u001b[0m\u001b[0;34m.\u001b[0m\u001b[0mappend\u001b[0m\u001b[0;34m(\u001b[0m\u001b[0mx\u001b[0m\u001b[0;34m)\u001b[0m\u001b[0;34m\u001b[0m\u001b[0;34m\u001b[0m\u001b[0m\n\u001b[1;32m     39\u001b[0m \u001b[0;34m\u001b[0m\u001b[0m\n\u001b[0;32m---> 40\u001b[0;31m     \u001b[0;32massert\u001b[0m \u001b[0mtile_data\u001b[0m\u001b[0;34m[\u001b[0m\u001b[0;36m0\u001b[0m\u001b[0;34m]\u001b[0m\u001b[0;34m.\u001b[0m\u001b[0mtile_count\u001b[0m \u001b[0;34m==\u001b[0m \u001b[0mlen\u001b[0m\u001b[0;34m(\u001b[0m\u001b[0mtiles\u001b[0m\u001b[0;34m)\u001b[0m\u001b[0;34m\u001b[0m\u001b[0;34m\u001b[0m\u001b[0m\n\u001b[0m\u001b[1;32m     41\u001b[0m     \u001b[0mprint\u001b[0m\u001b[0;34m(\u001b[0m\u001b[0mdata\u001b[0m\u001b[0;34m)\u001b[0m\u001b[0;34m\u001b[0m\u001b[0;34m\u001b[0m\u001b[0m\n\u001b[1;32m     42\u001b[0m     \u001b[0mprint\u001b[0m\u001b[0;34m(\u001b[0m\u001b[0;34m)\u001b[0m\u001b[0;34m\u001b[0m\u001b[0;34m\u001b[0m\u001b[0m\n",
      "\u001b[0;31mIndexError\u001b[0m: list index out of range"
     ]
    }
   ],
   "source": [
    "from itertools import zip_longest\n",
    "\n",
    "\n",
    "TileImage = namedtuple('TileImage', ['x', 'y', 'z', 'page', 'index'])\n",
    "TileData = namedtuple('TileData', ['unknown', 'width', 'height', 'tile_count', 'x', 'y'])\n",
    "TileInfo = namedtuple('TileInfo', ['x', 'y', 'terrain_type'])\n",
    "\n",
    "\n",
    "def read_virtual_file(file, filepath, length):\n",
    "    pos = file.tell()\n",
    "    header = file.read(40).decode('utf-8')\n",
    "    display_hex_view(file.read(length-40))\n",
    "    file.seek(pos)\n",
    "    header = file.read(39).decode('utf-8')\n",
    "    assert int.from_bytes(file.read(1), 'little') == 26\n",
    "    data = [\n",
    "        int.from_bytes(file.read(2), 'little', signed=True) \n",
    "        for i in range((length - 40) // 2)\n",
    "    ]\n",
    "    cels = []\n",
    "    tile_data = []\n",
    "    tiles = []\n",
    "    i = 0\n",
    "    run_length = 5 # first block is an image\n",
    "    while i < len(data):\n",
    "        run = data[i:i+run_length]\n",
    "        if run_length == 5:\n",
    "            cels.append(TileImage(*run))\n",
    "        elif len(run) == 3:\n",
    "            tiles.append(TileInfo(*run))\n",
    "        elif len(run) == 9:\n",
    "            tile_data.append(TileData(*run[0:6]))\n",
    "            tiles.append(TileInfo(*run[6:9]))\n",
    "        else:\n",
    "            logging.warning(f\"run length is {len(run)}\")\n",
    "        run = []\n",
    "    \n",
    "    assert tile_data[0].tile_count == len(tiles)\n",
    "    print(data)\n",
    "    print()\n",
    "    print(cels)\n",
    "    print(tile_data)\n",
    "    print(tiles)\n",
    "    print()\n",
    "    for x in cels:\n",
    "        try:\n",
    "            Sprite(f'PAGE{x.page:04}.CEL').display_image(x.index)\n",
    "        except:\n",
    "            logging.warning(f\"Could not display {x.page} index {x.index}\")\n",
    "\n",
    "\n",
    "read_muk()"
   ]
  },
  {
   "cell_type": "code",
   "execution_count": null,
   "id": "chemical-smooth",
   "metadata": {},
   "outputs": [],
   "source": [
    "# end blocks\n",
    "\n",
    "# 256 = DATA block: u1 width height tiles u2 u3\n",
    "# 259 = CEL block (first):  x, y, z, page, index\n",
    "# 255 = tile state: x y tile_type\n",
    "\n",
    "# start blocks\n",
    "\n",
    "# 256 data block\n",
    "# 258 data block\n",
    "# 259 cell block\n",
    "# 255/143/136/227/224 terminates tile state"
   ]
  },
  {
   "cell_type": "code",
   "execution_count": null,
   "id": "american-phrase",
   "metadata": {},
   "outputs": [],
   "source": [
    "# if word is greater than 256 or 259 terminates a run? there is another CEL image:\n",
    "# x, y, z, page, index\n",
    "# a block of 9 numbers\n",
    "# 255 followed by x, y, terrain_type?"
   ]
  },
  {
   "cell_type": "code",
   "execution_count": null,
   "id": "pleasant-buyer",
   "metadata": {},
   "outputs": [],
   "source": [
    "# capital case and 1 indicate destroyed versions of the lowercase and 0\n",
    "# 4th WORD is the cell page for the building"
   ]
  }
 ],
 "metadata": {
  "kernelspec": {
   "display_name": "Python 3.7.6 64-bit ('venv': venv)",
   "language": "python",
   "name": "python37664bitvenvvenv799ad9401fb04c86b1448b9d7565ae37"
  },
  "language_info": {
   "codemirror_mode": {
    "name": "ipython",
    "version": 3
   },
   "file_extension": ".py",
   "mimetype": "text/x-python",
   "name": "python",
   "nbconvert_exporter": "python",
   "pygments_lexer": "ipython3",
   "version": "3.7.6"
  }
 },
 "nbformat": 4,
 "nbformat_minor": 5
}

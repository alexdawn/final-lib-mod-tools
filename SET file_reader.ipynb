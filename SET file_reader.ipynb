{
 "cells": [
  {
   "cell_type": "markdown",
   "id": "portuguese-layout",
   "metadata": {},
   "source": [
    "## Segments\n",
    "\n",
    "Action Sets? `./SET/*.BIN` and `SET.MUK`\n",
    "\n",
    "## action sets\n",
    "\n",
    "describe which set of sprites refer to a certain action, game files has a couple of action set BIN files, the rest are merged into one big SET.MUK file\n",
    "\n",
    "Action files for regular sprites are laid out in the following format:\n",
    "```\n",
    "ACTION_FRAME_COUNT   POSITION_FORMAT\n",
    "X_COORD Y_COORD CEL_NUMBER FLIP TIME_IN_TICKS {PAGE_NUMBER}\n",
    "X_COORD Y_COORD CEL_NUMBER FLIP TIME_IN_TICKS {PAGE_NUMBER}\n",
    "```\n",
    "—and so on, where each new line is a new frame.\n",
    "       Notes\n",
    "    • POSITION_FORMAT can be R or A; for sprites, however, it is seemingly always set to R.\n",
    "    • FLIP must be either 1 or -1.\n",
    "    \n",
    "## for large composite sprites:\n",
    "\n",
    "Action files for boss sprites are laid out in the following format:\n",
    "```\n",
    "ACTION_FRAME_COUNT   POSITION_FORMAT   SPRITE_COUNT\n",
    "PART_NO X Y CEL_NO FLIP Z_HGT TICKS {DAMAGED} {PAGE_NUMBER}\n",
    "PART_NO X Y CEL_NO FLIP Z_HGT TICKS {DAMAGED} {PAGE_NUMBER}\n",
    "```\n",
    "—and so on, where each new line is a new frame.\n",
    "       Notes\n",
    "    • For boss sprites, POSITION_FORMAT is B.\n",
    "    • FLIP must be either 1 or -1.\n",
    "    \n",
    "A frame is now defined by multiple parts, where frames are delimited by a new zero part.\n",
    "For parts other than a zero part (that is, the start of a new frame), the x and y values are the deltas (changes) relative to the zero part that define where this part is placed.\n",
    "A Damaged version is specified by a 1, which defaults to zero if not damaged.\n",
    "Huh? What does that (above) mean?\n",
    "TIME_IN_TICKS is irrelevant for cels beyond the first one in the frame; however, you must enter it as a place holder if specifying the part is a Damaged one or the cel is on a different page. The same applies to the Damaged flag if specifying a different page number.\n",
    "ACTION_FRAME_COUNT is the number of actual frames, not the total number of lines in the file.\n",
    "If there is a Damaged cel version, it must be listed before the normal cel or MAKESET will issue an error.\n",
    "### Coding Events\n",
    "Events are actions such as sprite shooting or making contact with a sword. They are coded in as a line in the Action files by setting the CEL_NUMBER value to -1 and the ticks to zero."
   ]
  },
  {
   "cell_type": "code",
   "execution_count": 2,
   "id": "opposed-thickness",
   "metadata": {},
   "outputs": [],
   "source": [
    "import os\n",
    "from collections import defaultdict\n",
    "import logging\n",
    "from IPython.display import HTML, display\n",
    "import math\n",
    "from itertools import islice, product\n",
    "from enum import Enum"
   ]
  },
  {
   "cell_type": "code",
   "execution_count": 7,
   "id": "recognized-cleveland",
   "metadata": {},
   "outputs": [
    {
     "data": {
      "text/html": [
       "<span style=\"font-family: Courier New, Courier, Lucida Sans Typewriter, Lucida Typewriter, monospace;\">&nbsp;&nbsp;&nbsp;&nbsp;&nbsp;&nbsp;&nbsp;&nbsp;&nbsp;&nbsp;&nbsp;&nbsp;&nbsp;&nbsp;00&nbsp;01&nbsp;02&nbsp;03&nbsp;04&nbsp;05&nbsp;06&nbsp;07&nbsp;&nbsp;08&nbsp;09&nbsp;0A&nbsp;0B&nbsp;0C&nbsp;0D&nbsp;0E&nbsp;0F<br><br>00000000:&nbsp;&nbsp;&nbsp;&nbsp;<span style=\"background-color:#003F00;\">00 01</span>&nbsp;<span style=\"background-color:#00BF0F;\">02 03</span>&nbsp;<span style=\"background-color:#073F1F;\">04 05</span>&nbsp;<span style=\"background-color:#07BF2F;\">06 07</span>&nbsp;&nbsp;<span style=\"background-color:#0F3F3F;\">08 09</span>&nbsp;<span style=\"background-color:#0FBF4F;\">0A 0B</span>&nbsp;<span style=\"background-color:#173F5F;\">0C 0D</span>&nbsp;<span style=\"background-color:#17BF6F;\">0E 0F</span><br>00000010:&nbsp;&nbsp;&nbsp;&nbsp;<span style=\"background-color:#1F3F7F;\">10 11</span>&nbsp;<span style=\"background-color:#1FBF8F;\">12 13</span>&nbsp;<span style=\"background-color:#273F9F;\">14 15</span>&nbsp;<span style=\"background-color:#27BFAF;\">16 17</span>&nbsp;&nbsp;<span style=\"background-color:#2F3FBF;\">18 19</span>&nbsp;<span style=\"background-color:#2FBFCF;\">1A 1B</span>&nbsp;<span style=\"background-color:#373FDF;\">1C 1D</span>&nbsp;<span style=\"background-color:#37BFEF;\">1E 1F</span><br>00000020:&nbsp;&nbsp;&nbsp;&nbsp;<span style=\"background-color:#3F4700;\">20 21</span>&nbsp;<span style=\"background-color:#3FC70F;\">22 23</span>&nbsp;<span style=\"background-color:#47471F;\">24 25</span>&nbsp;<span style=\"background-color:#47C72F;\">26 27</span>&nbsp;&nbsp;<span style=\"background-color:#4F473F;\">28 29</span>&nbsp;<span style=\"background-color:#4FC74F;\">2A 2B</span>&nbsp;<span style=\"background-color:#57475F;\">2C 2D</span>&nbsp;<span style=\"background-color:#57C76F;\">2E 2F</span><br>00000030:&nbsp;&nbsp;&nbsp;&nbsp;<span style=\"background-color:#5F477F;\">30 31</span>&nbsp;<span style=\"background-color:#5FC78F;\">32 33</span>&nbsp;<span style=\"background-color:#67479F;\">34 35</span>&nbsp;<span style=\"background-color:#67C7AF;\">36 37</span>&nbsp;&nbsp;<span style=\"background-color:#6F47BF;\">38 39</span>&nbsp;<span style=\"background-color:#6FC7CF;\">3A 3B</span>&nbsp;<span style=\"background-color:#7747DF;\">3C 3D</span>&nbsp;<span style=\"background-color:#77C7EF;\">3E 3F</span><br>00000040:&nbsp;&nbsp;&nbsp;&nbsp;<span style=\"background-color:#7F4F00;\">40 41</span>&nbsp;<span style=\"background-color:#7FCF0F;\">42 43</span>&nbsp;<span style=\"background-color:#874F1F;\">44 45</span>&nbsp;<span style=\"background-color:#87CF2F;\">46 47</span>&nbsp;&nbsp;<span style=\"background-color:#8F4F3F;\">48 49</span>&nbsp;<span style=\"background-color:#8FCF4F;\">4A 4B</span>&nbsp;<span style=\"background-color:#974F5F;\">4C 4D</span>&nbsp;<span style=\"background-color:#97CF6F;\">4E 4F</span><br>00000050:&nbsp;&nbsp;&nbsp;&nbsp;<span style=\"background-color:#9F4F7F;\">50 51</span>&nbsp;<span style=\"background-color:#9FCF8F;\">52 53</span>&nbsp;<span style=\"background-color:#A74F9F;\">54 55</span>&nbsp;<span style=\"background-color:#A7CFAF;\">56 57</span>&nbsp;&nbsp;<span style=\"background-color:#AF4FBF;\">58 59</span>&nbsp;<span style=\"background-color:#AFCFCF;\">5A 5B</span>&nbsp;<span style=\"background-color:#B74FDF;\">5C 5D</span>&nbsp;<span style=\"background-color:#B7CFEF;\">5E 5F</span><br>00000060:&nbsp;&nbsp;&nbsp;&nbsp;<span style=\"background-color:#BF5700;\">60 61</span>&nbsp;<span style=\"background-color:#BFD70F;\">62 63</span>&nbsp;<span style=\"background-color:#C7571F;\">64 65</span>&nbsp;<span style=\"background-color:#C7D72F;\">66 67</span>&nbsp;&nbsp;<span style=\"background-color:#CF573F;\">68 69</span>&nbsp;<span style=\"background-color:#CFD74F;\">6A 6B</span>&nbsp;<span style=\"background-color:#D7575F;\">6C 6D</span>&nbsp;<span style=\"background-color:#D7D76F;\">6E 6F</span><br>00000070:&nbsp;&nbsp;&nbsp;&nbsp;<span style=\"background-color:#DF577F;\">70 71</span>&nbsp;<span style=\"background-color:#DFD78F;\">72 73</span>&nbsp;<span style=\"background-color:#E7579F;\">74 75</span>&nbsp;<span style=\"background-color:#E7D7AF;\">76 77</span>&nbsp;&nbsp;<span style=\"background-color:#EF57BF;\">78 79</span>&nbsp;<span style=\"background-color:#EFD7CF;\">7A 7B</span>&nbsp;<span style=\"background-color:#F757DF;\">7C 7D</span>&nbsp;<span style=\"background-color:#F7D7EF;\">7E 7F</span><br>00000080:&nbsp;&nbsp;&nbsp;&nbsp;<b>80 81</b>&nbsp;<b>82 83</b>&nbsp;&nbsp;</span>"
      ],
      "text/plain": [
       "<IPython.core.display.HTML object>"
      ]
     },
     "metadata": {},
     "output_type": "display_data"
    }
   ],
   "source": [
    "# tilesets; DICT[str, Tileset]\n",
    "%run ./CEL\\ INSPECTOR.ipynb"
   ]
  },
  {
   "cell_type": "code",
   "execution_count": 4,
   "id": "broke-phenomenon",
   "metadata": {
    "scrolled": true
   },
   "outputs": [
    {
     "data": {
      "text/plain": [
       "['CEL_FOLDER',\n",
       " 'Enum',\n",
       " 'HTML',\n",
       " 'Image',\n",
       " 'In',\n",
       " 'OUTPUT',\n",
       " 'Out',\n",
       " 'Sprite',\n",
       " '_',\n",
       " '_1',\n",
       " '__',\n",
       " '___',\n",
       " '__builtin__',\n",
       " '__builtins__',\n",
       " '__doc__',\n",
       " '__loader__',\n",
       " '__name__',\n",
       " '__package__',\n",
       " '__spec__',\n",
       " '_dh',\n",
       " '_i',\n",
       " '_i1',\n",
       " '_i2',\n",
       " '_i3',\n",
       " '_i4',\n",
       " '_ih',\n",
       " '_ii',\n",
       " '_iii',\n",
       " '_oh',\n",
       " 'bounds',\n",
       " 'chunk',\n",
       " 'convert_files',\n",
       " 'convert_pixel',\n",
       " 'defaultdict',\n",
       " 'display',\n",
       " 'display_hex_view',\n",
       " 'exit',\n",
       " 'format_word',\n",
       " 'get_ipython',\n",
       " 'hex_view',\n",
       " 'islice',\n",
       " 'itertools',\n",
       " 'log_progress',\n",
       " 'logging',\n",
       " 'math',\n",
       " 'namedtuple',\n",
       " 'os',\n",
       " 'pairwise',\n",
       " 'product',\n",
       " 'quit',\n",
       " 'set_pixel',\n",
       " 'sprite_header',\n",
       " 'tripwise',\n",
       " 'twos']"
      ]
     },
     "execution_count": 4,
     "metadata": {},
     "output_type": "execute_result"
    }
   ],
   "source": [
    "dir()"
   ]
  },
  {
   "cell_type": "code",
   "execution_count": 3,
   "id": "decent-automation",
   "metadata": {
    "scrolled": true
   },
   "outputs": [
    {
     "data": {
      "text/html": [
       "<span style=\"font-family: Courier New, Courier, Lucida Sans Typewriter, Lucida Typewriter, monospace;\">&nbsp;&nbsp;&nbsp;&nbsp;&nbsp;&nbsp;&nbsp;&nbsp;&nbsp;&nbsp;&nbsp;&nbsp;&nbsp;&nbsp;00&nbsp;01&nbsp;02&nbsp;03&nbsp;04&nbsp;05&nbsp;06&nbsp;07&nbsp;&nbsp;08&nbsp;09&nbsp;0A&nbsp;0B&nbsp;0C&nbsp;0D&nbsp;0E&nbsp;0F<br><br>00000000:&nbsp;&nbsp;&nbsp;&nbsp;00 01&nbsp;02 03&nbsp;04 05&nbsp;06 07&nbsp;&nbsp;08 09&nbsp;0A 0B&nbsp;0C 0D&nbsp;0E 0F<br>00000010:&nbsp;&nbsp;&nbsp;&nbsp;10 11&nbsp;12 13&nbsp;14 15&nbsp;16 17&nbsp;&nbsp;18 19&nbsp;1A 1B&nbsp;1C 1D&nbsp;1E 1F<br>00000020:&nbsp;&nbsp;&nbsp;&nbsp;20 21&nbsp;22 23&nbsp;24 25&nbsp;26 27&nbsp;&nbsp;28 29&nbsp;2A 2B&nbsp;2C 2D&nbsp;2E 2F<br>00000030:&nbsp;&nbsp;&nbsp;&nbsp;30 31&nbsp;32 33&nbsp;34 35&nbsp;36 37&nbsp;&nbsp;38 39&nbsp;3A 3B&nbsp;3C 3D&nbsp;3E 3F<br>00000040:&nbsp;&nbsp;&nbsp;&nbsp;40 41&nbsp;42 43&nbsp;44 45&nbsp;46 47&nbsp;&nbsp;48 49&nbsp;4A 4B&nbsp;4C 4D&nbsp;4E 4F<br>00000050:&nbsp;&nbsp;&nbsp;&nbsp;50 51&nbsp;52 53&nbsp;54 55&nbsp;56 57&nbsp;&nbsp;58 59&nbsp;5A 5B&nbsp;5C 5D&nbsp;5E 5F<br>00000060:&nbsp;&nbsp;&nbsp;&nbsp;60 61&nbsp;62 63&nbsp;64 65&nbsp;66 67&nbsp;&nbsp;68 69&nbsp;6A 6B&nbsp;6C 6D&nbsp;6E 6F<br>00000070:&nbsp;&nbsp;&nbsp;&nbsp;70 71&nbsp;72 73&nbsp;74 75&nbsp;76 77&nbsp;&nbsp;78 79&nbsp;7A 7B&nbsp;7C 7D&nbsp;7E 7F<br>00000080:&nbsp;&nbsp;&nbsp;&nbsp;80 81&nbsp;82 83&nbsp;&nbsp;</span>"
      ],
      "text/plain": [
       "<IPython.core.display.HTML object>"
      ]
     },
     "metadata": {},
     "output_type": "display_data"
    }
   ],
   "source": [
    "def chunk(it, size):\n",
    "    it = iter(it)\n",
    "    return list(iter(lambda: tuple(islice(it, size)), ()))\n",
    "\n",
    "\n",
    "def format_word(v, w):\n",
    "    text = '{:02X} {:02X}'.format(v, w)\n",
    "    return f'{text}'\n",
    "\n",
    "    \n",
    "def hex_view(data):\n",
    "    text = []\n",
    "    text.append(\n",
    "        14 * '&nbsp;' +\n",
    "        '&nbsp;'.join(['{:02X}'.format(y) for y in range(8)]) +\n",
    "        '&nbsp;&nbsp;' +\n",
    "        '&nbsp;'.join(['{:02X}'.format(y) for y in range(8, 16)])\n",
    "    \n",
    "    )\n",
    "    text.append('')\n",
    "    for i, x in enumerate(chunk(data, 16)):\n",
    "        text.append('{:08X}:&nbsp;&nbsp;&nbsp;&nbsp;'.format(i * 16) +\n",
    "              '&nbsp;'.join([format_word(y, z) for y, z in zip(x[:8:2], x[1:8:2])]) +\n",
    "              '&nbsp;&nbsp;' +\n",
    "              '&nbsp;'.join([format_word(y, z) for y, z in zip(x[8:16:2], x[9:16:2])])\n",
    "             )\n",
    "    return '<span style=\"font-family: Courier New, Courier, Lucida Sans Typewriter, Lucida Typewriter, monospace;\">{}</span>'.format(\"<br>\".join(text))\n",
    "\n",
    "\n",
    "def display_hex_view(data):\n",
    "    display(HTML(hex_view(data)))\n",
    "\n",
    "\n",
    "#display_hex_view(bytes(range(132)))"
   ]
  },
  {
   "cell_type": "code",
   "execution_count": 11,
   "id": "secret-excerpt",
   "metadata": {
    "scrolled": true
   },
   "outputs": [
    {
     "name": "stdout",
     "output_type": "stream",
     "text": [
      "SET2102 4654\n",
      "SET2108 5806\n"
     ]
    }
   ],
   "source": [
    "# Look at the top of the files\n",
    "FOLDER = '/home/alex/.wine/drive_c/GOG Games/WH40K Final Liberation/SET'\n",
    "OUTPUT = './sprites/'\n",
    "\n",
    "for filepath in sorted(os.listdir(FOLDER)):\n",
    "    filesize = os.path.getsize(FOLDER + '/' + filepath)\n",
    "    filename = filepath.split('.')[0]\n",
    "    print(filename, filesize)"
   ]
  },
  {
   "cell_type": "code",
   "execution_count": 60,
   "id": "horizontal-hotel",
   "metadata": {
    "scrolled": true
   },
   "outputs": [],
   "source": [
    "from itertools import zip_longest\n",
    "\n",
    "\n",
    "def read_file(file):\n",
    "    sprite_number = filepath.split('.')[0].replace('SET', '')\n",
    "    base_sprite = Sprite(f'PAGE{sprite_number}.CEL')\n",
    "    with open(f'{FOLDER}/{file}', 'rb') as file:\n",
    "        header = file.read(0x28)\n",
    "        print(\"unknown1\", int.from_bytes(file.read(2), 'little', signed=True))\n",
    "        headers = int.from_bytes(file.read(2), 'little', signed=True)\n",
    "        print(\"sets:\", headers)\n",
    "        print(\"unknown3\", int.from_bytes(file.read(2), 'little', signed=True))\n",
    "        h = []\n",
    "        for i in range(headers):\n",
    "            # at least part of the second value is an index?\n",
    "            h.append([\n",
    "                int.from_bytes(file.read(4), 'little', signed=True),\n",
    "                int.from_bytes(file.read(4), 'little', signed=True)\n",
    "            ])\n",
    "        prev = 0\n",
    "        #print(h)\n",
    "        header_size = 0x28 + 6 + 8 * headers\n",
    "        #print(h[-1][0], os.fstat(file.fileno()).st_size - header_size)\n",
    "        #print()\n",
    "        for set_index, (start, end) in enumerate(zip_longest(h[0:], h[1:])):\n",
    "            if end is None:\n",
    "                end = [os.fstat(file.fileno()).st_size]\n",
    "            # display_hex_view(data)\n",
    "            #print(\"set size\", end[0] - start[0])\n",
    "            #file.seek(start[0] + header_size - 2)\n",
    "            set_frames = int.from_bytes(file.read(2), 'little')\n",
    "            #print(set_index, \"set frames\", set_frames)\n",
    "            frames = []\n",
    "            for i in range(set_frames):\n",
    "                if i == 0:\n",
    "                    assert int.from_bytes(file.read(2), 'little') == 256, \"Invalid start of set\"\n",
    "                frame_data = [\n",
    "                        int.from_bytes(x, 'little', signed=True) \n",
    "                        for x in chunk(file.read(16), 2)\n",
    "                    ]\n",
    "                #print(frame_data)\n",
    "                if frame_data[2] != -1 and frame_data[0] == int(sprite_number):\n",
    "                    try:\n",
    "                        frames.append(\n",
    "                            base_sprite.images[frame_data[1]]\n",
    "                            if frame_data[3] == 1 else\n",
    "                            base_sprite.images[frame_data[1]].transpose(Image.FLIP_LEFT_RIGHT)\n",
    "                        )\n",
    "                    except KeyError as e:\n",
    "                        print(\"Invalid CEL index {} of {}\".format(frame_data[1], len(base_sprite.images)))\n",
    "                elif frame_data[0] != int(sprite_number):\n",
    "                    raise RuntimeError(\"Not yet got other CEL files getting loaded!\")\n",
    "            \n",
    "            if not os.path.exists(f'gifs/{sprite_number}'):\n",
    "                os.makedirs(f'gifs/{sprite_number}')\n",
    "            frames[0].save(f'./gifs/{sprite_number}/{sprite_number}-{set_index}.gif', format='GIF',\n",
    "               append_images=frames[1:], save_all=True, duration=100, loop=0)\n",
    "        pos, size = file.tell(), os.fstat(file.fileno()).st_size\n",
    "        assert pos == size , f\"Did not read to EOF {pos} of {size}\""
   ]
  },
  {
   "cell_type": "code",
   "execution_count": 61,
   "id": "express-encyclopedia",
   "metadata": {},
   "outputs": [],
   "source": [
    "  #     frames[0].save('test.gif', format='GIF',\n",
    "    #                append_images=frames[1:], save_all=True, duration=10, loop=0)"
   ]
  },
  {
   "cell_type": "code",
   "execution_count": 62,
   "id": "traditional-relationship",
   "metadata": {
    "scrolled": true
   },
   "outputs": [
    {
     "name": "stdout",
     "output_type": "stream",
     "text": [
      "SET2102.BIN\n",
      "unknown1 216\n",
      "sets: 96\n",
      "unknown3 1\n",
      "Invalid CEL index 29 of 29\n",
      "Invalid CEL index 29 of 29\n",
      "SET2108.BIN\n",
      "unknown1 294\n",
      "sets: 88\n",
      "unknown3 1\n",
      "Invalid CEL index 32 of 32\n",
      "Invalid CEL index 32 of 32\n"
     ]
    }
   ],
   "source": [
    "for filepath in sorted(os.listdir(FOLDER)):\n",
    "    print(filepath)\n",
    "    read_file(filepath)"
   ]
  },
  {
   "cell_type": "code",
   "execution_count": 8,
   "id": "social-seven",
   "metadata": {},
   "outputs": [],
   "source": [
    "# boss set has 9 variables\n",
    "# regular set has 6"
   ]
  },
  {
   "cell_type": "code",
   "execution_count": 9,
   "id": "indie-drive",
   "metadata": {},
   "outputs": [],
   "source": [
    "# PAGE_NUMBER CEL_NO TIME_IN_TICKS FLIP Y X PART? ?DAMAGED\n",
    "# No room for Z_HGT???"
   ]
  },
  {
   "cell_type": "code",
   "execution_count": 10,
   "id": "driving-highland",
   "metadata": {},
   "outputs": [],
   "source": [
    "# ACTION_FRAME_COUNT   POSITION_FORMAT   SPRITE_COUNT\n",
    "# PART_NO X Y CEL_NO FLIP Z_HGT TICKS {DAMAGED} {PAGE_NUMBER}\n",
    "# PART_NO X Y CEL_NO FLIP Z_HGT TICKS {DAMAGED} {PAGE_NUMBER}"
   ]
  }
 ],
 "metadata": {
  "kernelspec": {
   "display_name": "Python 3.7.6 64-bit ('venv': venv)",
   "language": "python",
   "name": "python37664bitvenvvenv799ad9401fb04c86b1448b9d7565ae37"
  },
  "language_info": {
   "codemirror_mode": {
    "name": "ipython",
    "version": 3
   },
   "file_extension": ".py",
   "mimetype": "text/x-python",
   "name": "python",
   "nbconvert_exporter": "python",
   "pygments_lexer": "ipython3",
   "version": "3.7.6"
  }
 },
 "nbformat": 4,
 "nbformat_minor": 5
}
